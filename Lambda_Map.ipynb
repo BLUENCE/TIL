{
  "nbformat": 4,
  "nbformat_minor": 0,
  "metadata": {
    "colab": {
      "name": "Lambda_Map.ipynb",
      "version": "0.3.2",
      "provenance": [],
      "collapsed_sections": []
    },
    "kernelspec": {
      "name": "python3",
      "display_name": "Python 3"
    }
  },
  "cells": [
    {
      "metadata": {
        "id": "CJ0IwHJlYZV-",
        "colab_type": "text"
      },
      "cell_type": "markdown",
      "source": [
        "## Lambda , Map 문법 공부"
      ]
    },
    {
      "metadata": {
        "id": "aYAEPCudYikh",
        "colab_type": "text"
      },
      "cell_type": "markdown",
      "source": [
        "## Lambda \n",
        "\n",
        "- 함수와 달리 함수명이 없음\n",
        "- 여러번 호출하지않고, 일회용 단기함수\n",
        "\n",
        "문법 : answer = lambda x : x*5\n",
        "\n",
        "\n",
        "## map(f, iterable)\n",
        "- 함수(f)와 반복 가능한 (iterable) 자료형을 입력으로 받는다.\n",
        "\n",
        "문법 : \n",
        "\n",
        "li = [1, 2, 3]\n",
        "result = list(map(lambda i: i * i, li))"
      ]
    },
    {
      "metadata": {
        "colab_type": "code",
        "outputId": "65b00365-6ac5-4b78-eabf-13cc45c76fec",
        "id": "8StBXP3tYatc",
        "colab": {
          "base_uri": "https://localhost:8080/",
          "height": 35
        }
      },
      "cell_type": "code",
      "source": [
        "# Lambda , Map 문법 공부\n",
        "\n",
        "함수와 달리 함수명이 없음\n",
        "여러번 호출하지않고, 일회용 단기함수\n",
        "Answer = lambda x: x*5\n",
        "\n",
        "\n",
        "# map(f, iterable)\n",
        "# 함수(f)와 반복 가능한 (iterable) 자료형을 입력으로 받는다.\n",
        "\n",
        "\n",
        "li = [1, 2, 3]\n",
        "result = list(map(lambda i: i * i, li))\n",
        "result # 1\n"
      ],
      "execution_count": 0,
      "outputs": [
        {
          "output_type": "execute_result",
          "data": {
            "text/plain": [
              "[1, 4, 9]"
            ]
          },
          "metadata": {
            "tags": []
          },
          "execution_count": 71
        }
      ]
    },
    {
      "metadata": {
        "colab_type": "code",
        "outputId": "65b00365-6ac5-4b78-eabf-13cc45c76fec",
        "id": "VGSFTbnvYZ54",
        "colab": {
          "base_uri": "https://localhost:8080/",
          "height": 35
        }
      },
      "cell_type": "code",
      "source": [
        "# Lambda , Map 문법 공부\n",
        "\n",
        "함수와 달리 함수명이 없음\n",
        "여러번 호출하지않고, 일회용 단기함수\n",
        "Answer = lambda x: x*5\n",
        "\n",
        "\n",
        "# map(f, iterable)\n",
        "# 함수(f)와 반복 가능한 (iterable) 자료형을 입력으로 받는다.\n",
        "\n",
        "\n",
        "li = [1, 2, 3]\n",
        "result = list(map(lambda i: i * i, li))\n",
        "result # 1\n"
      ],
      "execution_count": 0,
      "outputs": [
        {
          "output_type": "execute_result",
          "data": {
            "text/plain": [
              "[1, 4, 9]"
            ]
          },
          "metadata": {
            "tags": []
          },
          "execution_count": 71
        }
      ]
    }
  ]
}