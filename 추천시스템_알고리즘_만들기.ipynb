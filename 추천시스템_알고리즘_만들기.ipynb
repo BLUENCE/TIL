{
  "nbformat": 4,
  "nbformat_minor": 0,
  "metadata": {
    "colab": {
      "name": "추천시스템알고리즘만들기_정지은",
      "version": "0.3.2",
      "provenance": [],
      "collapsed_sections": [
        "6gGdtkEfd1uQ",
        "XiETd6xEeaTP",
        "KBieyjDI1eKU",
        "k2dlyXhQ1161",
        "aHfb5zmQ8IPP"
      ],
      "include_colab_link": true
    },
    "kernelspec": {
      "name": "python3",
      "display_name": "Python 3"
    }
  },
  "cells": [
    {
      "cell_type": "markdown",
      "metadata": {
        "id": "view-in-github",
        "colab_type": "text"
      },
      "source": [
        "[View in Colaboratory](https://colab.research.google.com/github/BLUENCE/TIL/blob/master/%EC%B6%94%EC%B2%9C%EC%8B%9C%EC%8A%A4%ED%85%9C_%EC%95%8C%EA%B3%A0%EB%A6%AC%EC%A6%98_%EB%A7%8C%EB%93%A4%EA%B8%B0.ipynb)"
      ]
    },
    {
      "metadata": {
        "id": "kDEFZf8V5Tz1",
        "colab_type": "text"
      },
      "cell_type": "markdown",
      "source": [
        "# 추천시스템 \n",
        "\n",
        "참고자료 : http://www.fun-coding.org/recommend_basic1.html "
      ]
    },
    {
      "metadata": {
        "id": "gE-c0SnrWigg",
        "colab_type": "code",
        "colab": {}
      },
      "cell_type": "code",
      "source": [
        "# 기본적인 모듈 설치\n",
        "\n",
        "import pandas as pd\n",
        "import numpy as np"
      ],
      "execution_count": 0,
      "outputs": []
    },
    {
      "metadata": {
        "id": "58aQgniue0FI",
        "colab_type": "text"
      },
      "cell_type": "markdown",
      "source": [
        "## 전체 추천 (popularity)"
      ]
    },
    {
      "metadata": {
        "id": "lcD_rBKjcjZK",
        "colab_type": "code",
        "colab": {}
      },
      "cell_type": "code",
      "source": [
        "# 영화에 대한 평가 점수를 dictionary 형태로 입력 ( 일반적으로 영화평점은 딕셔너리 형태로 하는 경우가 많습니다. )\n",
        "\n",
        "ratings={\n",
        "     'A':{'달콤한인생':5,'범죄도시':3,'도둑들':3,'모아나':4},\n",
        "     'B':{'달콤한인생':5,'범죄도시':1,'도둑들':4,'모아나':4},\n",
        "     'C':{'달콤한인생':0,'범죄도시':4,'도둑들':5,'모아나':3},\n",
        "     'D':{'달콤한인생':2,'범죄도시':1,'도둑들':5,'모아나':4}\n",
        "}"
      ],
      "execution_count": 0,
      "outputs": []
    },
    {
      "metadata": {
        "id": "iDJcDgXqcutL",
        "colab_type": "code",
        "colab": {
          "base_uri": "https://localhost:8080/",
          "height": 35
        },
        "outputId": "e1d501ab-5df3-4be9-cf77-1f2eb28b45f5"
      },
      "cell_type": "code",
      "source": [
        "# 데이터 확인\n",
        "\n",
        "ratings['A']\n",
        "# ratings['A']['달콤한인생']\n",
        "# ratings['A'].keys()"
      ],
      "execution_count": 3,
      "outputs": [
        {
          "output_type": "execute_result",
          "data": {
            "text/plain": [
              "{'달콤한인생': 5, '도둑들': 3, '모아나': 4, '범죄도시': 3}"
            ]
          },
          "metadata": {
            "tags": []
          },
          "execution_count": 3
        }
      ]
    },
    {
      "metadata": {
        "id": "7Xc83BUC9mBE",
        "colab_type": "code",
        "colab": {
          "base_uri": "https://localhost:8080/",
          "height": 35
        },
        "outputId": "d859d0d0-9a3e-40d7-b035-1bd80f75a41a"
      },
      "cell_type": "code",
      "source": [
        "ratings['A']['달콤한인생']"
      ],
      "execution_count": 5,
      "outputs": [
        {
          "output_type": "execute_result",
          "data": {
            "text/plain": [
              "5"
            ]
          },
          "metadata": {
            "tags": []
          },
          "execution_count": 5
        }
      ]
    },
    {
      "metadata": {
        "id": "yzgCNfv-94wn",
        "colab_type": "code",
        "colab": {
          "base_uri": "https://localhost:8080/",
          "height": 35
        },
        "outputId": "202ad475-b436-4b1a-b74d-498309cbe3aa"
      },
      "cell_type": "code",
      "source": [
        "ratings['A'].keys()"
      ],
      "execution_count": 6,
      "outputs": [
        {
          "output_type": "execute_result",
          "data": {
            "text/plain": [
              "dict_keys(['달콤한인생', '범죄도시', '도둑들', '모아나'])"
            ]
          },
          "metadata": {
            "tags": []
          },
          "execution_count": 6
        }
      ]
    },
    {
      "metadata": {
        "id": "TL8TuY74drTT",
        "colab_type": "text"
      },
      "cell_type": "markdown",
      "source": [
        "**Work) 평점을 기준으로 두 영화를 추천해주세요! ** => 전체그룹 추천 \n",
        "\n",
        "*   항목 추가\n",
        "*   항목 추가\n",
        "\n",
        "\n"
      ]
    },
    {
      "metadata": {
        "id": "uQeGtVgbeDGt",
        "colab_type": "code",
        "colab": {
          "base_uri": "https://localhost:8080/",
          "height": 171
        },
        "outputId": "57eb0e3a-1ddc-4915-b58c-7e2eae4b85ad"
      },
      "cell_type": "code",
      "source": [
        "dat = pd.DataFrame(ratings)\n",
        "dat"
      ],
      "execution_count": 0,
      "outputs": [
        {
          "output_type": "execute_result",
          "data": {
            "text/html": [
              "<div>\n",
              "<style scoped>\n",
              "    .dataframe tbody tr th:only-of-type {\n",
              "        vertical-align: middle;\n",
              "    }\n",
              "\n",
              "    .dataframe tbody tr th {\n",
              "        vertical-align: top;\n",
              "    }\n",
              "\n",
              "    .dataframe thead th {\n",
              "        text-align: right;\n",
              "    }\n",
              "</style>\n",
              "<table border=\"1\" class=\"dataframe\">\n",
              "  <thead>\n",
              "    <tr style=\"text-align: right;\">\n",
              "      <th></th>\n",
              "      <th>A</th>\n",
              "      <th>B</th>\n",
              "      <th>C</th>\n",
              "      <th>D</th>\n",
              "    </tr>\n",
              "  </thead>\n",
              "  <tbody>\n",
              "    <tr>\n",
              "      <th>달콤한인생</th>\n",
              "      <td>5</td>\n",
              "      <td>5</td>\n",
              "      <td>0</td>\n",
              "      <td>2</td>\n",
              "    </tr>\n",
              "    <tr>\n",
              "      <th>도둑들</th>\n",
              "      <td>3</td>\n",
              "      <td>4</td>\n",
              "      <td>5</td>\n",
              "      <td>5</td>\n",
              "    </tr>\n",
              "    <tr>\n",
              "      <th>모아나</th>\n",
              "      <td>4</td>\n",
              "      <td>4</td>\n",
              "      <td>3</td>\n",
              "      <td>4</td>\n",
              "    </tr>\n",
              "    <tr>\n",
              "      <th>범죄도시</th>\n",
              "      <td>3</td>\n",
              "      <td>1</td>\n",
              "      <td>4</td>\n",
              "      <td>1</td>\n",
              "    </tr>\n",
              "  </tbody>\n",
              "</table>\n",
              "</div>"
            ],
            "text/plain": [
              "       A  B  C  D\n",
              "달콤한인생  5  5  0  2\n",
              "도둑들    3  4  5  5\n",
              "모아나    4  4  3  4\n",
              "범죄도시   3  1  4  1"
            ]
          },
          "metadata": {
            "tags": []
          },
          "execution_count": 37
        }
      ]
    },
    {
      "metadata": {
        "id": "TzsyNstT-_0V",
        "colab_type": "code",
        "colab": {
          "base_uri": "https://localhost:8080/",
          "height": 111
        },
        "outputId": "053555ad-daae-4716-d591-1ccd689c9744"
      },
      "cell_type": "code",
      "source": [
        "tmp = dat.apply(np.mean, axis = 1)\n",
        "tmp"
      ],
      "execution_count": 0,
      "outputs": [
        {
          "output_type": "execute_result",
          "data": {
            "text/plain": [
              "달콤한인생    3.00\n",
              "도둑들      4.25\n",
              "모아나      3.75\n",
              "범죄도시     2.25\n",
              "dtype: float64"
            ]
          },
          "metadata": {
            "tags": []
          },
          "execution_count": 38
        }
      ]
    },
    {
      "metadata": {
        "id": "yRbbp8lj_LNh",
        "colab_type": "code",
        "colab": {
          "base_uri": "https://localhost:8080/",
          "height": 111
        },
        "outputId": "21b7055e-38d8-45fd-89d9-75fbb259c431"
      },
      "cell_type": "code",
      "source": [
        "rate = tmp.sort_values(ascending = False)\n",
        "rate"
      ],
      "execution_count": 0,
      "outputs": [
        {
          "output_type": "execute_result",
          "data": {
            "text/plain": [
              "도둑들      4.25\n",
              "모아나      3.75\n",
              "달콤한인생    3.00\n",
              "범죄도시     2.25\n",
              "dtype: float64"
            ]
          },
          "metadata": {
            "tags": []
          },
          "execution_count": 41
        }
      ]
    },
    {
      "metadata": {
        "id": "qTp5Fk2a_s4j",
        "colab_type": "code",
        "colab": {
          "base_uri": "https://localhost:8080/",
          "height": 73
        },
        "outputId": "24b62e78-a46a-4747-c632-6afd30474e14"
      },
      "cell_type": "code",
      "source": [
        "# top 2개\n",
        "rate[:2]"
      ],
      "execution_count": 0,
      "outputs": [
        {
          "output_type": "execute_result",
          "data": {
            "text/plain": [
              "도둑들    4.25\n",
              "모아나    3.75\n",
              "dtype: float64"
            ]
          },
          "metadata": {
            "tags": []
          },
          "execution_count": 42
        }
      ]
    },
    {
      "metadata": {
        "id": "6gGdtkEfd1uQ",
        "colab_type": "text"
      },
      "cell_type": "markdown",
      "source": [
        "#### 참고 코드"
      ]
    },
    {
      "metadata": {
        "id": "PLztqo6fcno2",
        "colab_type": "code",
        "colab": {}
      },
      "cell_type": "code",
      "source": [
        "# 영화별로 총 평점 구하기\n",
        "\n",
        "movie_dict = dict()\n",
        "\n",
        "for key_name in ratings:\n",
        "    for movie_name in ratings[key_name].keys():\n",
        "        if movie_name not in movie_dict:\n",
        "            movie_dict[movie_name] = ratings[key_name][movie_name]\n",
        "        else:\n",
        "            movie_dict[movie_name] = (movie_dict[movie_name] + ratings[key_name][movie_name]) \n",
        "         "
      ],
      "execution_count": 0,
      "outputs": []
    },
    {
      "metadata": {
        "id": "IOucapq7eJIy",
        "colab_type": "text"
      },
      "cell_type": "markdown",
      "source": [
        "*  **for key_name in ratings : **  key_name 순으로 반복문 진행\n",
        "  *  **  for movie_name in ratings[key_name].keys() :  **  영화순으로 반복문 진행\n",
        "    * ** if movie_name not in movie_dict:  **'movie_dict' 안에 이 영화가 없다면 if문 진행\n",
        "      * **movie_dict[movie_name] = ratings[key_name][movie_name] : **move_dict['영화제목'] 이 안에 영화 평점을 새롭게 넣어줘\n",
        "    * **else:** 'movie_dict' 안에 영화가 있다면 else 문 진행\n",
        "      * ** movie_dict[movie_name] = (movie_dict[movie_name] + ratings[key_name][movie_name])  :  ** move_dict['영화제목'] 이 안에 영화 평점을 계속 넣어줘"
      ]
    },
    {
      "metadata": {
        "id": "Zm58-QiogdG3",
        "colab_type": "code",
        "colab": {
          "base_uri": "https://localhost:8080/",
          "height": 35
        },
        "outputId": "8cd9f27a-92bd-49ec-b3d9-596ab89139a8"
      },
      "cell_type": "code",
      "source": [
        "# 영화별로 평균 평점 구하기!\n",
        "\n",
        "for movie_name in ratings['A'].keys():\n",
        "    movie_dict[movie_name] = movie_dict[movie_name] / 4\n",
        "    \n",
        "movie_dict"
      ],
      "execution_count": 40,
      "outputs": [
        {
          "output_type": "execute_result",
          "data": {
            "text/plain": [
              "{'달콤한인생': 3.0, '도둑들': 4.25, '모아나': 3.75, '범죄도시': 2.25}"
            ]
          },
          "metadata": {
            "tags": []
          },
          "execution_count": 40
        }
      ]
    },
    {
      "metadata": {
        "id": "2aN6hKchcpj4",
        "colab_type": "code",
        "colab": {
          "base_uri": "https://localhost:8080/",
          "height": 35
        },
        "outputId": "d6eb2333-138d-465d-efe0-b27c2fcc5b5a"
      },
      "cell_type": "code",
      "source": [
        "# 점수가 높은 순으로 정렬하기\n",
        "\n",
        "import operator\n",
        "\n",
        "sorted_x = sorted(movie_dict.items(), key = operator.itemgetter(1), reverse=True)\n",
        "sorted_x"
      ],
      "execution_count": 41,
      "outputs": [
        {
          "output_type": "execute_result",
          "data": {
            "text/plain": [
              "[('도둑들', 4.25), ('모아나', 3.75), ('달콤한인생', 3.0), ('범죄도시', 2.25)]"
            ]
          },
          "metadata": {
            "tags": []
          },
          "execution_count": 41
        }
      ]
    },
    {
      "metadata": {
        "id": "17HN8oJti-cX",
        "colab_type": "text"
      },
      "cell_type": "markdown",
      "source": [
        "dictionary는 리스트나 튜플이랑 다르게 순서가 없음! 따라서 dict를 튜플의 리스트로 표현 한 다음에 정렬해야 함!\n",
        "\n",
        "* itemgetter : 딕셔너리 정렬 연산자 (1 : 두번째 값으로 정렬 하겠다 , 0: key 로 정렬하겠다)"
      ]
    },
    {
      "metadata": {
        "id": "Av-X3OhIjRUg",
        "colab_type": "code",
        "colab": {
          "base_uri": "https://localhost:8080/",
          "height": 35
        },
        "outputId": "46d5158d-221f-46d3-d0f3-93fdd4e405a0"
      },
      "cell_type": "code",
      "source": [
        "# 평점이 가장 높은 두 영화를 출력하기\n",
        "sorted_x[:2]"
      ],
      "execution_count": 0,
      "outputs": [
        {
          "output_type": "execute_result",
          "data": {
            "text/plain": [
              "[('도둑들', 4.25), ('모아나', 3.75)]"
            ]
          },
          "metadata": {
            "tags": []
          },
          "execution_count": 30
        }
      ]
    },
    {
      "metadata": {
        "id": "SwvfheFXmW5E",
        "colab_type": "text"
      },
      "cell_type": "markdown",
      "source": [
        "## 협업필터링 (Collaborate Filtering)\n",
        "\n",
        "해당 사용자와 유사한 사용자를 먼저 찾은 후 ! 사용자의 유사도를 바탕으로 가중치를 줘서 item점수 계산해서 추천 "
      ]
    },
    {
      "metadata": {
        "id": "B0Z0ltromVlv",
        "colab_type": "code",
        "colab": {}
      },
      "cell_type": "code",
      "source": [
        "# 영화에 대한 평가 점수가 다음과 같다\n",
        "\n",
        "movie2={\n",
        "     'A':{'달콤한인생':5,'범죄도시':3,'모아나':4},\n",
        "     'B':{'달콤한인생':5,'범죄도시':1,'도둑들':4,'모아나':4, '서치':3},\n",
        "     'C':{'달콤한인생':1,'범죄도시':4,'도둑들':5,'모아나':3, '명당':2},\n",
        "     'D':{'달콤한인생':2,'범죄도시':1}\n",
        "}"
      ],
      "execution_count": 0,
      "outputs": []
    },
    {
      "metadata": {
        "id": "BPDOZqOmONLR",
        "colab_type": "text"
      },
      "cell_type": "markdown",
      "source": [
        "### User-based CF\n",
        "** Work) User-based CF를 통해 D에게 적절한 영화를 추천해주세요 **"
      ]
    },
    {
      "metadata": {
        "id": "_0JxUkwBOMrT",
        "colab_type": "code",
        "colab": {}
      },
      "cell_type": "code",
      "source": [
        "# Step1) User - Item matrix 만들기"
      ],
      "execution_count": 0,
      "outputs": []
    },
    {
      "metadata": {
        "id": "xinnmRIcFjRr",
        "colab_type": "code",
        "colab": {}
      },
      "cell_type": "code",
      "source": [
        "df_movie2 = pd.DataFrame.from_dict(movie2)  #  orient='index' / orient를 index로 주면 유저-아이템 매트릭스형식으로 만들 수 있다"
      ],
      "execution_count": 0,
      "outputs": []
    },
    {
      "metadata": {
        "id": "pgHQyH38H9gL",
        "colab_type": "code",
        "colab": {
          "base_uri": "https://localhost:8080/",
          "height": 228
        },
        "outputId": "a9c0ed52-add2-461a-c61b-0e8e9c5ac797"
      },
      "cell_type": "code",
      "source": [
        "df_movie2"
      ],
      "execution_count": 104,
      "outputs": [
        {
          "output_type": "execute_result",
          "data": {
            "text/html": [
              "<div>\n",
              "<style scoped>\n",
              "    .dataframe tbody tr th:only-of-type {\n",
              "        vertical-align: middle;\n",
              "    }\n",
              "\n",
              "    .dataframe tbody tr th {\n",
              "        vertical-align: top;\n",
              "    }\n",
              "\n",
              "    .dataframe thead th {\n",
              "        text-align: right;\n",
              "    }\n",
              "</style>\n",
              "<table border=\"1\" class=\"dataframe\">\n",
              "  <thead>\n",
              "    <tr style=\"text-align: right;\">\n",
              "      <th></th>\n",
              "      <th>A</th>\n",
              "      <th>B</th>\n",
              "      <th>C</th>\n",
              "      <th>D</th>\n",
              "    </tr>\n",
              "  </thead>\n",
              "  <tbody>\n",
              "    <tr>\n",
              "      <th>달콤한인생</th>\n",
              "      <td>5.0</td>\n",
              "      <td>5.0</td>\n",
              "      <td>1.0</td>\n",
              "      <td>2.0</td>\n",
              "    </tr>\n",
              "    <tr>\n",
              "      <th>도둑들</th>\n",
              "      <td>NaN</td>\n",
              "      <td>4.0</td>\n",
              "      <td>5.0</td>\n",
              "      <td>NaN</td>\n",
              "    </tr>\n",
              "    <tr>\n",
              "      <th>명당</th>\n",
              "      <td>NaN</td>\n",
              "      <td>NaN</td>\n",
              "      <td>2.0</td>\n",
              "      <td>NaN</td>\n",
              "    </tr>\n",
              "    <tr>\n",
              "      <th>모아나</th>\n",
              "      <td>4.0</td>\n",
              "      <td>4.0</td>\n",
              "      <td>3.0</td>\n",
              "      <td>NaN</td>\n",
              "    </tr>\n",
              "    <tr>\n",
              "      <th>범죄도시</th>\n",
              "      <td>3.0</td>\n",
              "      <td>1.0</td>\n",
              "      <td>4.0</td>\n",
              "      <td>1.0</td>\n",
              "    </tr>\n",
              "    <tr>\n",
              "      <th>서치</th>\n",
              "      <td>NaN</td>\n",
              "      <td>3.0</td>\n",
              "      <td>NaN</td>\n",
              "      <td>NaN</td>\n",
              "    </tr>\n",
              "  </tbody>\n",
              "</table>\n",
              "</div>"
            ],
            "text/plain": [
              "         A    B    C    D\n",
              "달콤한인생  5.0  5.0  1.0  2.0\n",
              "도둑들    NaN  4.0  5.0  NaN\n",
              "명당     NaN  NaN  2.0  NaN\n",
              "모아나    4.0  4.0  3.0  NaN\n",
              "범죄도시   3.0  1.0  4.0  1.0\n",
              "서치     NaN  3.0  NaN  NaN"
            ]
          },
          "metadata": {
            "tags": []
          },
          "execution_count": 104
        }
      ]
    },
    {
      "metadata": {
        "id": "2420-lxHGs4l",
        "colab_type": "code",
        "colab": {}
      },
      "cell_type": "code",
      "source": [
        "df_movie2 = df_movie2.fillna(0).astype(int)  # Nan 값은 0으로 채워주고 그냥 int형으로 변환해준다. \n"
      ],
      "execution_count": 0,
      "outputs": []
    },
    {
      "metadata": {
        "id": "fcyrKuSfHGfl",
        "colab_type": "code",
        "colab": {
          "base_uri": "https://localhost:8080/",
          "height": 138
        },
        "outputId": "2277a8f7-b50e-4356-d6cf-4abc8984331f"
      },
      "cell_type": "code",
      "source": [
        "df_movie2['B']"
      ],
      "execution_count": 112,
      "outputs": [
        {
          "output_type": "execute_result",
          "data": {
            "text/plain": [
              "달콤한인생    5\n",
              "도둑들      4\n",
              "명당       0\n",
              "모아나      4\n",
              "범죄도시     1\n",
              "서치       3\n",
              "Name: B, dtype: int64"
            ]
          },
          "metadata": {
            "tags": []
          },
          "execution_count": 112
        }
      ]
    },
    {
      "metadata": {
        "id": "kIIJmN4Drine",
        "colab_type": "code",
        "colab": {}
      },
      "cell_type": "code",
      "source": [
        "# Step2) 'D' 유저와 다른 유저들의 유사도 측정 (상관계수, 유클리디안거리, 코사인유사도 등등이 존재함 "
      ],
      "execution_count": 0,
      "outputs": []
    },
    {
      "metadata": {
        "id": "eEgrt6utKOHu",
        "colab_type": "code",
        "colab": {
          "base_uri": "https://localhost:8080/",
          "height": 168
        },
        "outputId": "e6478c75-7d51-4349-c2bb-478a4d3b1434"
      },
      "cell_type": "code",
      "source": [
        "corr = df_movie2.corr()  # 각 컬럼간의 코사인 유사도 구하기 \n",
        "corr"
      ],
      "execution_count": 120,
      "outputs": [
        {
          "output_type": "execute_result",
          "data": {
            "text/html": [
              "<div>\n",
              "<style scoped>\n",
              "    .dataframe tbody tr th:only-of-type {\n",
              "        vertical-align: middle;\n",
              "    }\n",
              "\n",
              "    .dataframe tbody tr th {\n",
              "        vertical-align: top;\n",
              "    }\n",
              "\n",
              "    .dataframe thead th {\n",
              "        text-align: right;\n",
              "    }\n",
              "</style>\n",
              "<table border=\"1\" class=\"dataframe\">\n",
              "  <thead>\n",
              "    <tr style=\"text-align: right;\">\n",
              "      <th></th>\n",
              "      <th>A</th>\n",
              "      <th>B</th>\n",
              "      <th>C</th>\n",
              "      <th>D</th>\n",
              "    </tr>\n",
              "  </thead>\n",
              "  <tbody>\n",
              "    <tr>\n",
              "      <th>A</th>\n",
              "      <td>1.000000</td>\n",
              "      <td>0.451908</td>\n",
              "      <td>-0.046881</td>\n",
              "      <td>0.733799</td>\n",
              "    </tr>\n",
              "    <tr>\n",
              "      <th>B</th>\n",
              "      <td>0.451908</td>\n",
              "      <td>1.000000</td>\n",
              "      <td>-0.082624</td>\n",
              "      <td>0.307923</td>\n",
              "    </tr>\n",
              "    <tr>\n",
              "      <th>C</th>\n",
              "      <td>-0.046881</td>\n",
              "      <td>-0.082624</td>\n",
              "      <td>1.000000</td>\n",
              "      <td>-0.191663</td>\n",
              "    </tr>\n",
              "    <tr>\n",
              "      <th>D</th>\n",
              "      <td>0.733799</td>\n",
              "      <td>0.307923</td>\n",
              "      <td>-0.191663</td>\n",
              "      <td>1.000000</td>\n",
              "    </tr>\n",
              "  </tbody>\n",
              "</table>\n",
              "</div>"
            ],
            "text/plain": [
              "          A         B         C         D\n",
              "A  1.000000  0.451908 -0.046881  0.733799\n",
              "B  0.451908  1.000000 -0.082624  0.307923\n",
              "C -0.046881 -0.082624  1.000000 -0.191663\n",
              "D  0.733799  0.307923 -0.191663  1.000000"
            ]
          },
          "metadata": {
            "tags": []
          },
          "execution_count": 120
        }
      ]
    },
    {
      "metadata": {
        "id": "isrGRuw0KcaC",
        "colab_type": "code",
        "colab": {}
      },
      "cell_type": "code",
      "source": [
        "sim = corr['D']\n",
        "sim[3] = 0  # 마지막 값은 어차피 안쓸거니까 그냥 0으로 바꿈"
      ],
      "execution_count": 0,
      "outputs": []
    },
    {
      "metadata": {
        "id": "diqMyi7eKkA_",
        "colab_type": "code",
        "colab": {
          "base_uri": "https://localhost:8080/",
          "height": 104
        },
        "outputId": "7954a977-4f3b-447b-8c71-a180a39866a6"
      },
      "cell_type": "code",
      "source": [
        "sim"
      ],
      "execution_count": 126,
      "outputs": [
        {
          "output_type": "execute_result",
          "data": {
            "text/plain": [
              "A    0.733799\n",
              "B    0.307923\n",
              "C   -0.191663\n",
              "D    0.000000\n",
              "Name: D, dtype: float64"
            ]
          },
          "metadata": {
            "tags": []
          },
          "execution_count": 126
        }
      ]
    },
    {
      "metadata": {
        "id": "aAwoic8BO3sw",
        "colab_type": "code",
        "colab": {}
      },
      "cell_type": "code",
      "source": [
        "# Step3) 유사도를 기준으로 item 평점 계산하기"
      ],
      "execution_count": 0,
      "outputs": []
    },
    {
      "metadata": {
        "id": "YOQb48KtKnad",
        "colab_type": "code",
        "colab": {
          "base_uri": "https://localhost:8080/",
          "height": 228
        },
        "outputId": "a128add2-ac5c-42be-d3d0-69eabaa8c5b8"
      },
      "cell_type": "code",
      "source": [
        "df_movie2"
      ],
      "execution_count": 123,
      "outputs": [
        {
          "output_type": "execute_result",
          "data": {
            "text/html": [
              "<div>\n",
              "<style scoped>\n",
              "    .dataframe tbody tr th:only-of-type {\n",
              "        vertical-align: middle;\n",
              "    }\n",
              "\n",
              "    .dataframe tbody tr th {\n",
              "        vertical-align: top;\n",
              "    }\n",
              "\n",
              "    .dataframe thead th {\n",
              "        text-align: right;\n",
              "    }\n",
              "</style>\n",
              "<table border=\"1\" class=\"dataframe\">\n",
              "  <thead>\n",
              "    <tr style=\"text-align: right;\">\n",
              "      <th></th>\n",
              "      <th>A</th>\n",
              "      <th>B</th>\n",
              "      <th>C</th>\n",
              "      <th>D</th>\n",
              "    </tr>\n",
              "  </thead>\n",
              "  <tbody>\n",
              "    <tr>\n",
              "      <th>달콤한인생</th>\n",
              "      <td>5</td>\n",
              "      <td>5</td>\n",
              "      <td>1</td>\n",
              "      <td>2</td>\n",
              "    </tr>\n",
              "    <tr>\n",
              "      <th>도둑들</th>\n",
              "      <td>0</td>\n",
              "      <td>4</td>\n",
              "      <td>5</td>\n",
              "      <td>0</td>\n",
              "    </tr>\n",
              "    <tr>\n",
              "      <th>명당</th>\n",
              "      <td>0</td>\n",
              "      <td>0</td>\n",
              "      <td>2</td>\n",
              "      <td>0</td>\n",
              "    </tr>\n",
              "    <tr>\n",
              "      <th>모아나</th>\n",
              "      <td>4</td>\n",
              "      <td>4</td>\n",
              "      <td>3</td>\n",
              "      <td>0</td>\n",
              "    </tr>\n",
              "    <tr>\n",
              "      <th>범죄도시</th>\n",
              "      <td>3</td>\n",
              "      <td>1</td>\n",
              "      <td>4</td>\n",
              "      <td>1</td>\n",
              "    </tr>\n",
              "    <tr>\n",
              "      <th>서치</th>\n",
              "      <td>0</td>\n",
              "      <td>3</td>\n",
              "      <td>0</td>\n",
              "      <td>0</td>\n",
              "    </tr>\n",
              "  </tbody>\n",
              "</table>\n",
              "</div>"
            ],
            "text/plain": [
              "       A  B  C  D\n",
              "달콤한인생  5  5  1  2\n",
              "도둑들    0  4  5  0\n",
              "명당     0  0  2  0\n",
              "모아나    4  4  3  0\n",
              "범죄도시   3  1  4  1\n",
              "서치     0  3  0  0"
            ]
          },
          "metadata": {
            "tags": []
          },
          "execution_count": 123
        }
      ]
    },
    {
      "metadata": {
        "id": "G95ixGTvLLwe",
        "colab_type": "code",
        "colab": {
          "base_uri": "https://localhost:8080/",
          "height": 35
        },
        "outputId": "dfd24fff-4d59-4565-fa13-619da6ce8642"
      },
      "cell_type": "code",
      "source": [
        "5*0.733799  # 한번 곱해보자"
      ],
      "execution_count": 134,
      "outputs": [
        {
          "output_type": "execute_result",
          "data": {
            "text/plain": [
              "3.668995"
            ]
          },
          "metadata": {
            "tags": []
          },
          "execution_count": 134
        }
      ]
    },
    {
      "metadata": {
        "id": "38_WofDUK5YL",
        "colab_type": "code",
        "colab": {
          "base_uri": "https://localhost:8080/",
          "height": 228
        },
        "outputId": "8165e1f5-d36c-4bf3-fc46-4b51da15e546"
      },
      "cell_type": "code",
      "source": [
        "mat = df_movie2*sim\n",
        "mat  # user별 유사도가 곱해진 값 "
      ],
      "execution_count": 128,
      "outputs": [
        {
          "output_type": "execute_result",
          "data": {
            "text/html": [
              "<div>\n",
              "<style scoped>\n",
              "    .dataframe tbody tr th:only-of-type {\n",
              "        vertical-align: middle;\n",
              "    }\n",
              "\n",
              "    .dataframe tbody tr th {\n",
              "        vertical-align: top;\n",
              "    }\n",
              "\n",
              "    .dataframe thead th {\n",
              "        text-align: right;\n",
              "    }\n",
              "</style>\n",
              "<table border=\"1\" class=\"dataframe\">\n",
              "  <thead>\n",
              "    <tr style=\"text-align: right;\">\n",
              "      <th></th>\n",
              "      <th>A</th>\n",
              "      <th>B</th>\n",
              "      <th>C</th>\n",
              "      <th>D</th>\n",
              "    </tr>\n",
              "  </thead>\n",
              "  <tbody>\n",
              "    <tr>\n",
              "      <th>달콤한인생</th>\n",
              "      <td>3.668997</td>\n",
              "      <td>1.539616</td>\n",
              "      <td>-0.191663</td>\n",
              "      <td>0.0</td>\n",
              "    </tr>\n",
              "    <tr>\n",
              "      <th>도둑들</th>\n",
              "      <td>0.000000</td>\n",
              "      <td>1.231693</td>\n",
              "      <td>-0.958315</td>\n",
              "      <td>0.0</td>\n",
              "    </tr>\n",
              "    <tr>\n",
              "      <th>명당</th>\n",
              "      <td>0.000000</td>\n",
              "      <td>0.000000</td>\n",
              "      <td>-0.383326</td>\n",
              "      <td>0.0</td>\n",
              "    </tr>\n",
              "    <tr>\n",
              "      <th>모아나</th>\n",
              "      <td>2.935198</td>\n",
              "      <td>1.231693</td>\n",
              "      <td>-0.574989</td>\n",
              "      <td>0.0</td>\n",
              "    </tr>\n",
              "    <tr>\n",
              "      <th>범죄도시</th>\n",
              "      <td>2.201398</td>\n",
              "      <td>0.307923</td>\n",
              "      <td>-0.766652</td>\n",
              "      <td>0.0</td>\n",
              "    </tr>\n",
              "    <tr>\n",
              "      <th>서치</th>\n",
              "      <td>0.000000</td>\n",
              "      <td>0.923770</td>\n",
              "      <td>-0.000000</td>\n",
              "      <td>0.0</td>\n",
              "    </tr>\n",
              "  </tbody>\n",
              "</table>\n",
              "</div>"
            ],
            "text/plain": [
              "              A         B         C    D\n",
              "달콤한인생  3.668997  1.539616 -0.191663  0.0\n",
              "도둑들    0.000000  1.231693 -0.958315  0.0\n",
              "명당     0.000000  0.000000 -0.383326  0.0\n",
              "모아나    2.935198  1.231693 -0.574989  0.0\n",
              "범죄도시   2.201398  0.307923 -0.766652  0.0\n",
              "서치     0.000000  0.923770 -0.000000  0.0"
            ]
          },
          "metadata": {
            "tags": []
          },
          "execution_count": 128
        }
      ]
    },
    {
      "metadata": {
        "id": "C4o-L_ExK_Dc",
        "colab_type": "code",
        "colab": {
          "base_uri": "https://localhost:8080/",
          "height": 138
        },
        "outputId": "a6f4297e-295a-4825-e317-c40c4577be1c"
      },
      "cell_type": "code",
      "source": [
        "result = mat.mean(axis=1)\n",
        "result # 각 영화별로 더해서 평균(mean)을 내면 아래와 같다. "
      ],
      "execution_count": 138,
      "outputs": [
        {
          "output_type": "execute_result",
          "data": {
            "text/plain": [
              "달콤한인생    1.254237\n",
              "도둑들      0.068344\n",
              "명당      -0.095831\n",
              "모아나      0.897975\n",
              "범죄도시     0.435667\n",
              "서치       0.230942\n",
              "dtype: float64"
            ]
          },
          "metadata": {
            "tags": []
          },
          "execution_count": 138
        }
      ]
    },
    {
      "metadata": {
        "id": "R5iSAiVIO3zu",
        "colab_type": "code",
        "colab": {}
      },
      "cell_type": "code",
      "source": [
        "# Step4) 'D' 에게 적절한 영화 추천"
      ],
      "execution_count": 0,
      "outputs": []
    },
    {
      "metadata": {
        "id": "LWNlC4KXL3O_",
        "colab_type": "code",
        "colab": {
          "base_uri": "https://localhost:8080/",
          "height": 138
        },
        "outputId": "4b72d37f-8e54-4b34-9824-9bf0e48b9dbb"
      },
      "cell_type": "code",
      "source": [
        "result.sort_values(ascending=False)"
      ],
      "execution_count": 141,
      "outputs": [
        {
          "output_type": "execute_result",
          "data": {
            "text/plain": [
              "달콤한인생    1.254237\n",
              "모아나      0.897975\n",
              "범죄도시     0.435667\n",
              "서치       0.230942\n",
              "도둑들      0.068344\n",
              "명당      -0.095831\n",
              "dtype: float64"
            ]
          },
          "metadata": {
            "tags": []
          },
          "execution_count": 141
        }
      ]
    },
    {
      "metadata": {
        "id": "lJyCiPdSMNUg",
        "colab_type": "text"
      },
      "cell_type": "markdown",
      "source": [
        "사용자 D는 달콤한 도시, 범죄도시를 이미 봤으므로 '모아나' 추천!"
      ]
    },
    {
      "metadata": {
        "id": "gx86k3FiPEcm",
        "colab_type": "text"
      },
      "cell_type": "markdown",
      "source": [
        "#### 참고 코드"
      ]
    },
    {
      "metadata": {
        "id": "lge1OYnEPFn-",
        "colab_type": "code",
        "colab": {}
      },
      "cell_type": "code",
      "source": [
        "# Step1) User - Item matrix 만들기\n",
        "movie_df = pd.DataFrame.from_dict(movie, orient = 'index')"
      ],
      "execution_count": 0,
      "outputs": []
    },
    {
      "metadata": {
        "id": "MSXVj71YQ1yu",
        "colab_type": "code",
        "colab": {
          "base_uri": "https://localhost:8080/",
          "height": 173
        },
        "outputId": "cf9bf988-a541-4244-ed2b-af548849744c"
      },
      "cell_type": "code",
      "source": [
        "# NA는 0으로 우선 처리\n",
        "nan_idx = np.isnan(movie_df)\n",
        "movie_df[nan_idx] = 0\n",
        "movie_df"
      ],
      "execution_count": 0,
      "outputs": [
        {
          "output_type": "execute_result",
          "data": {
            "text/html": [
              "<div>\n",
              "<style scoped>\n",
              "    .dataframe tbody tr th:only-of-type {\n",
              "        vertical-align: middle;\n",
              "    }\n",
              "\n",
              "    .dataframe tbody tr th {\n",
              "        vertical-align: top;\n",
              "    }\n",
              "\n",
              "    .dataframe thead th {\n",
              "        text-align: right;\n",
              "    }\n",
              "</style>\n",
              "<table border=\"1\" class=\"dataframe\">\n",
              "  <thead>\n",
              "    <tr style=\"text-align: right;\">\n",
              "      <th></th>\n",
              "      <th>달콤한인생</th>\n",
              "      <th>범죄도시</th>\n",
              "      <th>모아나</th>\n",
              "      <th>도둑들</th>\n",
              "      <th>서치</th>\n",
              "      <th>명당</th>\n",
              "    </tr>\n",
              "  </thead>\n",
              "  <tbody>\n",
              "    <tr>\n",
              "      <th>A</th>\n",
              "      <td>5</td>\n",
              "      <td>3</td>\n",
              "      <td>4.0</td>\n",
              "      <td>0.0</td>\n",
              "      <td>0.0</td>\n",
              "      <td>0.0</td>\n",
              "    </tr>\n",
              "    <tr>\n",
              "      <th>B</th>\n",
              "      <td>5</td>\n",
              "      <td>1</td>\n",
              "      <td>4.0</td>\n",
              "      <td>4.0</td>\n",
              "      <td>3.0</td>\n",
              "      <td>0.0</td>\n",
              "    </tr>\n",
              "    <tr>\n",
              "      <th>C</th>\n",
              "      <td>1</td>\n",
              "      <td>4</td>\n",
              "      <td>3.0</td>\n",
              "      <td>5.0</td>\n",
              "      <td>0.0</td>\n",
              "      <td>2.0</td>\n",
              "    </tr>\n",
              "    <tr>\n",
              "      <th>D</th>\n",
              "      <td>2</td>\n",
              "      <td>1</td>\n",
              "      <td>0.0</td>\n",
              "      <td>0.0</td>\n",
              "      <td>0.0</td>\n",
              "      <td>0.0</td>\n",
              "    </tr>\n",
              "  </tbody>\n",
              "</table>\n",
              "</div>"
            ],
            "text/plain": [
              "   달콤한인생  범죄도시  모아나  도둑들   서치   명당\n",
              "A      5     3  4.0  0.0  0.0  0.0\n",
              "B      5     1  4.0  4.0  3.0  0.0\n",
              "C      1     4  3.0  5.0  0.0  2.0\n",
              "D      2     1  0.0  0.0  0.0  0.0"
            ]
          },
          "metadata": {
            "tags": []
          },
          "execution_count": 87
        }
      ]
    },
    {
      "metadata": {
        "id": "SRpiy6E_PFoH",
        "colab_type": "code",
        "colab": {}
      },
      "cell_type": "code",
      "source": [
        "# Step2) 'D' 유저와 다른 유저들의 유사도 측정\n",
        "#        유저들의 유사도를 상관계수로 구함!\n",
        "\n",
        "# 유사도 초기화!\n",
        "similarity = [0,0,0,0]\n",
        "\n",
        "for i, name in enumerate(movie_df.index.values):\n",
        "  if name == 'D':\n",
        "    similarity[i] = 0\n",
        "  else:\n",
        "    similarity[i] = np.corrcoef(movie_df.loc[name].values, movie_df.loc['D'].values)[1,0]"
      ],
      "execution_count": 0,
      "outputs": []
    },
    {
      "metadata": {
        "id": "_A8CH4NXVVu2",
        "colab_type": "code",
        "colab": {
          "base_uri": "https://localhost:8080/",
          "height": 35
        },
        "outputId": "9f36dd44-36fb-40d0-ca2e-0d6b220f6aad"
      },
      "cell_type": "code",
      "source": [
        "# 유사도 확인\n",
        "similarity"
      ],
      "execution_count": 0,
      "outputs": [
        {
          "output_type": "execute_result",
          "data": {
            "text/plain": [
              "[0.7337993857053428, 0.30792318479945885, -0.191662969499982, 0]"
            ]
          },
          "metadata": {
            "tags": []
          },
          "execution_count": 89
        }
      ]
    },
    {
      "metadata": {
        "id": "9ATS2_poPFoQ",
        "colab_type": "code",
        "colab": {
          "base_uri": "https://localhost:8080/",
          "height": 125
        },
        "outputId": "2882bcfe-9919-4eb2-933f-550efaac0073"
      },
      "cell_type": "code",
      "source": [
        "# Step3) 유사도를 기준으로 item 평점 계산하기\n",
        "\n",
        "item = []\n",
        "for col_name in movie_df.columns.values:\n",
        "  tmp  = sum(similarity * movie_df[col_name])\n",
        "  item.append(tmp)\n",
        "item"
      ],
      "execution_count": 0,
      "outputs": [
        {
          "output_type": "execute_result",
          "data": {
            "text/plain": [
              "[5.016949883024026,\n",
              " 1.7426694639155595,\n",
              " 3.591901373519261,\n",
              " 0.2733778916979255,\n",
              " 0.9237695543983766,\n",
              " -0.383325938999964]"
            ]
          },
          "metadata": {
            "tags": []
          },
          "execution_count": 127
        }
      ]
    },
    {
      "metadata": {
        "id": "ZMRRq4n5bzz9",
        "colab_type": "code",
        "colab": {
          "base_uri": "https://localhost:8080/",
          "height": 235
        },
        "outputId": "03afe714-e767-47f3-8e76-64f15a4d6aaf"
      },
      "cell_type": "code",
      "source": [
        "# item dataframe으로 만들어 주기!\n",
        "item_df = pd.DataFrame(item)\n",
        "item_df.index = user_cf.columns.values\n",
        "item_df.columns = ['ratings']\n",
        "item_df"
      ],
      "execution_count": 0,
      "outputs": [
        {
          "output_type": "execute_result",
          "data": {
            "text/html": [
              "<div>\n",
              "<style scoped>\n",
              "    .dataframe tbody tr th:only-of-type {\n",
              "        vertical-align: middle;\n",
              "    }\n",
              "\n",
              "    .dataframe tbody tr th {\n",
              "        vertical-align: top;\n",
              "    }\n",
              "\n",
              "    .dataframe thead th {\n",
              "        text-align: right;\n",
              "    }\n",
              "</style>\n",
              "<table border=\"1\" class=\"dataframe\">\n",
              "  <thead>\n",
              "    <tr style=\"text-align: right;\">\n",
              "      <th></th>\n",
              "      <th>ratings</th>\n",
              "    </tr>\n",
              "  </thead>\n",
              "  <tbody>\n",
              "    <tr>\n",
              "      <th>달콤한인생</th>\n",
              "      <td>5.016950</td>\n",
              "    </tr>\n",
              "    <tr>\n",
              "      <th>범죄도시</th>\n",
              "      <td>1.742669</td>\n",
              "    </tr>\n",
              "    <tr>\n",
              "      <th>모아나</th>\n",
              "      <td>3.591901</td>\n",
              "    </tr>\n",
              "    <tr>\n",
              "      <th>도둑들</th>\n",
              "      <td>0.273378</td>\n",
              "    </tr>\n",
              "    <tr>\n",
              "      <th>서치</th>\n",
              "      <td>0.923770</td>\n",
              "    </tr>\n",
              "    <tr>\n",
              "      <th>명당</th>\n",
              "      <td>-0.383326</td>\n",
              "    </tr>\n",
              "  </tbody>\n",
              "</table>\n",
              "</div>"
            ],
            "text/plain": [
              "        ratings\n",
              "달콤한인생  5.016950\n",
              "범죄도시   1.742669\n",
              "모아나    3.591901\n",
              "도둑들    0.273378\n",
              "서치     0.923770\n",
              "명당    -0.383326"
            ]
          },
          "metadata": {
            "tags": []
          },
          "execution_count": 140
        }
      ]
    },
    {
      "metadata": {
        "id": "fiPRTziOcqcI",
        "colab_type": "code",
        "colab": {
          "base_uri": "https://localhost:8080/",
          "height": 235
        },
        "outputId": "da8f2eb8-0144-454d-f938-74f5375e08df"
      },
      "cell_type": "code",
      "source": [
        "# 예측한 평점순으로 정렬!\n",
        "item_df.sort_values(by=['ratings'], ascending=False)"
      ],
      "execution_count": 0,
      "outputs": [
        {
          "output_type": "execute_result",
          "data": {
            "text/html": [
              "<div>\n",
              "<style scoped>\n",
              "    .dataframe tbody tr th:only-of-type {\n",
              "        vertical-align: middle;\n",
              "    }\n",
              "\n",
              "    .dataframe tbody tr th {\n",
              "        vertical-align: top;\n",
              "    }\n",
              "\n",
              "    .dataframe thead th {\n",
              "        text-align: right;\n",
              "    }\n",
              "</style>\n",
              "<table border=\"1\" class=\"dataframe\">\n",
              "  <thead>\n",
              "    <tr style=\"text-align: right;\">\n",
              "      <th></th>\n",
              "      <th>ratings</th>\n",
              "    </tr>\n",
              "  </thead>\n",
              "  <tbody>\n",
              "    <tr>\n",
              "      <th>달콤한인생</th>\n",
              "      <td>5.016950</td>\n",
              "    </tr>\n",
              "    <tr>\n",
              "      <th>모아나</th>\n",
              "      <td>3.591901</td>\n",
              "    </tr>\n",
              "    <tr>\n",
              "      <th>범죄도시</th>\n",
              "      <td>1.742669</td>\n",
              "    </tr>\n",
              "    <tr>\n",
              "      <th>서치</th>\n",
              "      <td>0.923770</td>\n",
              "    </tr>\n",
              "    <tr>\n",
              "      <th>도둑들</th>\n",
              "      <td>0.273378</td>\n",
              "    </tr>\n",
              "    <tr>\n",
              "      <th>명당</th>\n",
              "      <td>-0.383326</td>\n",
              "    </tr>\n",
              "  </tbody>\n",
              "</table>\n",
              "</div>"
            ],
            "text/plain": [
              "        ratings\n",
              "달콤한인생  5.016950\n",
              "모아나    3.591901\n",
              "범죄도시   1.742669\n",
              "서치     0.923770\n",
              "도둑들    0.273378\n",
              "명당    -0.383326"
            ]
          },
          "metadata": {
            "tags": []
          },
          "execution_count": 147
        }
      ]
    },
    {
      "metadata": {
        "id": "raL1cRVBPFoW",
        "colab_type": "code",
        "colab": {
          "base_uri": "https://localhost:8080/",
          "height": 173
        },
        "outputId": "63b5c8d4-7116-4ef1-dad4-6be18ac07d33"
      },
      "cell_type": "code",
      "source": [
        "# Step4) 'D' 에게 적절한 영화 추천\n",
        "movie_df\n",
        "\n",
        "## D에서 '모아나' 영화 추천 !"
      ],
      "execution_count": 0,
      "outputs": [
        {
          "output_type": "execute_result",
          "data": {
            "text/html": [
              "<div>\n",
              "<style scoped>\n",
              "    .dataframe tbody tr th:only-of-type {\n",
              "        vertical-align: middle;\n",
              "    }\n",
              "\n",
              "    .dataframe tbody tr th {\n",
              "        vertical-align: top;\n",
              "    }\n",
              "\n",
              "    .dataframe thead th {\n",
              "        text-align: right;\n",
              "    }\n",
              "</style>\n",
              "<table border=\"1\" class=\"dataframe\">\n",
              "  <thead>\n",
              "    <tr style=\"text-align: right;\">\n",
              "      <th></th>\n",
              "      <th>달콤한인생</th>\n",
              "      <th>범죄도시</th>\n",
              "      <th>모아나</th>\n",
              "      <th>도둑들</th>\n",
              "      <th>서치</th>\n",
              "      <th>명당</th>\n",
              "    </tr>\n",
              "  </thead>\n",
              "  <tbody>\n",
              "    <tr>\n",
              "      <th>A</th>\n",
              "      <td>5</td>\n",
              "      <td>3</td>\n",
              "      <td>4.0</td>\n",
              "      <td>0.0</td>\n",
              "      <td>0.0</td>\n",
              "      <td>0.0</td>\n",
              "    </tr>\n",
              "    <tr>\n",
              "      <th>B</th>\n",
              "      <td>5</td>\n",
              "      <td>1</td>\n",
              "      <td>4.0</td>\n",
              "      <td>4.0</td>\n",
              "      <td>3.0</td>\n",
              "      <td>0.0</td>\n",
              "    </tr>\n",
              "    <tr>\n",
              "      <th>C</th>\n",
              "      <td>1</td>\n",
              "      <td>4</td>\n",
              "      <td>3.0</td>\n",
              "      <td>5.0</td>\n",
              "      <td>0.0</td>\n",
              "      <td>2.0</td>\n",
              "    </tr>\n",
              "    <tr>\n",
              "      <th>D</th>\n",
              "      <td>2</td>\n",
              "      <td>1</td>\n",
              "      <td>0.0</td>\n",
              "      <td>0.0</td>\n",
              "      <td>0.0</td>\n",
              "      <td>0.0</td>\n",
              "    </tr>\n",
              "  </tbody>\n",
              "</table>\n",
              "</div>"
            ],
            "text/plain": [
              "   달콤한인생  범죄도시  모아나  도둑들   서치   명당\n",
              "A      5     3  4.0  0.0  0.0  0.0\n",
              "B      5     1  4.0  4.0  3.0  0.0\n",
              "C      1     4  3.0  5.0  0.0  2.0\n",
              "D      2     1  0.0  0.0  0.0  0.0"
            ]
          },
          "metadata": {
            "tags": []
          },
          "execution_count": 148
        }
      ]
    },
    {
      "metadata": {
        "id": "84omIZo1eaSv",
        "colab_type": "text"
      },
      "cell_type": "markdown",
      "source": [
        "### Item-based CF\n",
        "** Work) Item-based CF를 통해 D에게 적절한 영화를 추천해주세요 **"
      ]
    },
    {
      "metadata": {
        "id": "bcYJX5w_eaSx",
        "colab_type": "code",
        "colab": {}
      },
      "cell_type": "code",
      "source": [
        "# Step1) User - Item matrix 만들기"
      ],
      "execution_count": 0,
      "outputs": []
    },
    {
      "metadata": {
        "id": "h99wn-0RMjDt",
        "colab_type": "code",
        "colab": {
          "base_uri": "https://localhost:8080/",
          "height": 168
        },
        "outputId": "8a40ece3-7740-4e72-bfce-97feb4dc839e"
      },
      "cell_type": "code",
      "source": [
        "df_movie2.T  # 위에 있던거 그냥 그대로 가져오면서 트랜스포즈시킴"
      ],
      "execution_count": 148,
      "outputs": [
        {
          "output_type": "execute_result",
          "data": {
            "text/html": [
              "<div>\n",
              "<style scoped>\n",
              "    .dataframe tbody tr th:only-of-type {\n",
              "        vertical-align: middle;\n",
              "    }\n",
              "\n",
              "    .dataframe tbody tr th {\n",
              "        vertical-align: top;\n",
              "    }\n",
              "\n",
              "    .dataframe thead th {\n",
              "        text-align: right;\n",
              "    }\n",
              "</style>\n",
              "<table border=\"1\" class=\"dataframe\">\n",
              "  <thead>\n",
              "    <tr style=\"text-align: right;\">\n",
              "      <th></th>\n",
              "      <th>달콤한인생</th>\n",
              "      <th>도둑들</th>\n",
              "      <th>명당</th>\n",
              "      <th>모아나</th>\n",
              "      <th>범죄도시</th>\n",
              "      <th>서치</th>\n",
              "    </tr>\n",
              "  </thead>\n",
              "  <tbody>\n",
              "    <tr>\n",
              "      <th>A</th>\n",
              "      <td>5</td>\n",
              "      <td>0</td>\n",
              "      <td>0</td>\n",
              "      <td>4</td>\n",
              "      <td>3</td>\n",
              "      <td>0</td>\n",
              "    </tr>\n",
              "    <tr>\n",
              "      <th>B</th>\n",
              "      <td>5</td>\n",
              "      <td>4</td>\n",
              "      <td>0</td>\n",
              "      <td>4</td>\n",
              "      <td>1</td>\n",
              "      <td>3</td>\n",
              "    </tr>\n",
              "    <tr>\n",
              "      <th>C</th>\n",
              "      <td>1</td>\n",
              "      <td>5</td>\n",
              "      <td>2</td>\n",
              "      <td>3</td>\n",
              "      <td>4</td>\n",
              "      <td>0</td>\n",
              "    </tr>\n",
              "    <tr>\n",
              "      <th>D</th>\n",
              "      <td>2</td>\n",
              "      <td>0</td>\n",
              "      <td>0</td>\n",
              "      <td>0</td>\n",
              "      <td>1</td>\n",
              "      <td>0</td>\n",
              "    </tr>\n",
              "  </tbody>\n",
              "</table>\n",
              "</div>"
            ],
            "text/plain": [
              "   달콤한인생  도둑들  명당  모아나  범죄도시  서치\n",
              "A      5    0   0    4     3   0\n",
              "B      5    4   0    4     1   3\n",
              "C      1    5   2    3     4   0\n",
              "D      2    0   0    0     1   0"
            ]
          },
          "metadata": {
            "tags": []
          },
          "execution_count": 148
        }
      ]
    },
    {
      "metadata": {
        "id": "qlzzmlY4eaS1",
        "colab_type": "code",
        "colab": {}
      },
      "cell_type": "code",
      "source": [
        "# Step2) '달콤한인생', '범죄도시' 를 기준(사용자 'D'가 이미 구해한 아이템)으로 item별 유사도 측정"
      ],
      "execution_count": 0,
      "outputs": []
    },
    {
      "metadata": {
        "id": "WOipbh46P4-n",
        "colab_type": "code",
        "colab": {
          "base_uri": "https://localhost:8080/",
          "height": 228
        },
        "outputId": "5e1f2144-aa53-4b92-9d3f-63ba0f1a599f"
      },
      "cell_type": "code",
      "source": [
        "# 달콤한 인생과 도둑들, 달콤한 인생과 명당...\n",
        "# 범죄도시와 달콤한인생, 범죄도시와 도둑들... 이런식으로 구해야 함 \n",
        "\n",
        "df_movie2.T.corr()"
      ],
      "execution_count": 163,
      "outputs": [
        {
          "output_type": "execute_result",
          "data": {
            "text/html": [
              "<div>\n",
              "<style scoped>\n",
              "    .dataframe tbody tr th:only-of-type {\n",
              "        vertical-align: middle;\n",
              "    }\n",
              "\n",
              "    .dataframe tbody tr th {\n",
              "        vertical-align: top;\n",
              "    }\n",
              "\n",
              "    .dataframe thead th {\n",
              "        text-align: right;\n",
              "    }\n",
              "</style>\n",
              "<table border=\"1\" class=\"dataframe\">\n",
              "  <thead>\n",
              "    <tr style=\"text-align: right;\">\n",
              "      <th></th>\n",
              "      <th>달콤한인생</th>\n",
              "      <th>도둑들</th>\n",
              "      <th>명당</th>\n",
              "      <th>모아나</th>\n",
              "      <th>범죄도시</th>\n",
              "      <th>서치</th>\n",
              "    </tr>\n",
              "  </thead>\n",
              "  <tbody>\n",
              "    <tr>\n",
              "      <th>달콤한인생</th>\n",
              "      <td>1.000000</td>\n",
              "      <td>-0.261291</td>\n",
              "      <td>-0.727607</td>\n",
              "      <td>0.619268</td>\n",
              "      <td>-0.350329</td>\n",
              "      <td>0.565916</td>\n",
              "    </tr>\n",
              "    <tr>\n",
              "      <th>도둑들</th>\n",
              "      <td>-0.261291</td>\n",
              "      <td>1.000000</td>\n",
              "      <td>0.697097</td>\n",
              "      <td>0.418472</td>\n",
              "      <td>0.316862</td>\n",
              "      <td>0.443607</td>\n",
              "    </tr>\n",
              "    <tr>\n",
              "      <th>명당</th>\n",
              "      <td>-0.727607</td>\n",
              "      <td>0.697097</td>\n",
              "      <td>1.000000</td>\n",
              "      <td>0.088045</td>\n",
              "      <td>0.777778</td>\n",
              "      <td>-0.333333</td>\n",
              "    </tr>\n",
              "    <tr>\n",
              "      <th>모아나</th>\n",
              "      <td>0.619268</td>\n",
              "      <td>0.418472</td>\n",
              "      <td>0.088045</td>\n",
              "      <td>1.000000</td>\n",
              "      <td>0.381529</td>\n",
              "      <td>0.440225</td>\n",
              "    </tr>\n",
              "    <tr>\n",
              "      <th>범죄도시</th>\n",
              "      <td>-0.350329</td>\n",
              "      <td>0.316862</td>\n",
              "      <td>0.777778</td>\n",
              "      <td>0.381529</td>\n",
              "      <td>1.000000</td>\n",
              "      <td>-0.555556</td>\n",
              "    </tr>\n",
              "    <tr>\n",
              "      <th>서치</th>\n",
              "      <td>0.565916</td>\n",
              "      <td>0.443607</td>\n",
              "      <td>-0.333333</td>\n",
              "      <td>0.440225</td>\n",
              "      <td>-0.555556</td>\n",
              "      <td>1.000000</td>\n",
              "    </tr>\n",
              "  </tbody>\n",
              "</table>\n",
              "</div>"
            ],
            "text/plain": [
              "          달콤한인생       도둑들        명당       모아나      범죄도시        서치\n",
              "달콤한인생  1.000000 -0.261291 -0.727607  0.619268 -0.350329  0.565916\n",
              "도둑들   -0.261291  1.000000  0.697097  0.418472  0.316862  0.443607\n",
              "명당    -0.727607  0.697097  1.000000  0.088045  0.777778 -0.333333\n",
              "모아나    0.619268  0.418472  0.088045  1.000000  0.381529  0.440225\n",
              "범죄도시  -0.350329  0.316862  0.777778  0.381529  1.000000 -0.555556\n",
              "서치     0.565916  0.443607 -0.333333  0.440225 -0.555556  1.000000"
            ]
          },
          "metadata": {
            "tags": []
          },
          "execution_count": 163
        }
      ]
    },
    {
      "metadata": {
        "id": "NfttMPmtMq7z",
        "colab_type": "code",
        "colab": {}
      },
      "cell_type": "code",
      "source": [
        "item_corr = df_movie2.T.corr() # 각 영화별 코사인 유사도 구하기 "
      ],
      "execution_count": 0,
      "outputs": []
    },
    {
      "metadata": {
        "id": "BF576e0rPtP7",
        "colab_type": "code",
        "colab": {
          "base_uri": "https://localhost:8080/",
          "height": 138
        },
        "outputId": "c59eb6e2-7eac-4e23-ab9e-6dd2a45d2a94"
      },
      "cell_type": "code",
      "source": [
        "item_corr['달콤한인생']  # 달콤한 인생과 각 영화아의 유사도 보기 "
      ],
      "execution_count": 170,
      "outputs": [
        {
          "output_type": "execute_result",
          "data": {
            "text/plain": [
              "달콤한인생    1.000000\n",
              "도둑들     -0.261291\n",
              "명당      -0.727607\n",
              "모아나      0.619268\n",
              "범죄도시    -0.350329\n",
              "서치       0.565916\n",
              "Name: 달콤한인생, dtype: float64"
            ]
          },
          "metadata": {
            "tags": []
          },
          "execution_count": 170
        }
      ]
    },
    {
      "metadata": {
        "id": "-GbggnTVeaS6",
        "colab_type": "code",
        "colab": {}
      },
      "cell_type": "code",
      "source": [
        "# Step3) 유사도를 기준으로 item 평점 계산하기"
      ],
      "execution_count": 0,
      "outputs": []
    },
    {
      "metadata": {
        "id": "LsXyzFm8Nqcs",
        "colab_type": "code",
        "colab": {
          "base_uri": "https://localhost:8080/",
          "height": 138
        },
        "outputId": "c3990753-26fc-442c-b2c4-99bacf09a56b"
      },
      "cell_type": "code",
      "source": [
        "item_corr = item_corr['달콤한인생']*2 + item_corr['범죄도시']*1  # D가 달콤한 인생과 범죄도시에 2점과 1점을 주었으므로 가중치를 주기위해 곱해줌 \n",
        "item_corr"
      ],
      "execution_count": 156,
      "outputs": [
        {
          "output_type": "execute_result",
          "data": {
            "text/plain": [
              "달콤한인생    1.649671\n",
              "도둑들     -0.205720\n",
              "명당      -0.677436\n",
              "모아나      1.620065\n",
              "범죄도시     0.299342\n",
              "서치       0.576277\n",
              "dtype: float64"
            ]
          },
          "metadata": {
            "tags": []
          },
          "execution_count": 156
        }
      ]
    },
    {
      "metadata": {
        "id": "DjMPYasSOv2c",
        "colab_type": "code",
        "colab": {
          "base_uri": "https://localhost:8080/",
          "height": 138
        },
        "outputId": "8ab92ce5-6ca5-4838-cfd5-6b178956b8b4"
      },
      "cell_type": "code",
      "source": [
        "item_corr.sort_values(ascending = False)"
      ],
      "execution_count": 157,
      "outputs": [
        {
          "output_type": "execute_result",
          "data": {
            "text/plain": [
              "달콤한인생    1.649671\n",
              "모아나      1.620065\n",
              "서치       0.576277\n",
              "범죄도시     0.299342\n",
              "도둑들     -0.205720\n",
              "명당      -0.677436\n",
              "dtype: float64"
            ]
          },
          "metadata": {
            "tags": []
          },
          "execution_count": 157
        }
      ]
    },
    {
      "metadata": {
        "id": "bJPgjrUCeaTO",
        "colab_type": "code",
        "colab": {}
      },
      "cell_type": "code",
      "source": [
        "# Step4) 'D' 에게 적절한 영화 추천"
      ],
      "execution_count": 0,
      "outputs": []
    },
    {
      "metadata": {
        "id": "5p7yfhOCO-C3",
        "colab_type": "text"
      },
      "cell_type": "markdown",
      "source": [
        "달콤한인생과 범죄도시를 빼면 '모아나' 추천"
      ]
    },
    {
      "metadata": {
        "id": "XiETd6xEeaTP",
        "colab_type": "text"
      },
      "cell_type": "markdown",
      "source": [
        "#### 참고 코드"
      ]
    },
    {
      "metadata": {
        "id": "lVqL4LakeaTQ",
        "colab_type": "code",
        "colab": {}
      },
      "cell_type": "code",
      "source": [
        "# Step1) User - Item matrix 만들기\n",
        "movie_df = pd.DataFrame.from_dict(movie, orient = 'index')"
      ],
      "execution_count": 0,
      "outputs": []
    },
    {
      "metadata": {
        "id": "gD9NRwlJeaTV",
        "colab_type": "code",
        "colab": {
          "base_uri": "https://localhost:8080/",
          "height": 173
        },
        "outputId": "b5ea3833-26b5-442e-8556-faff88b784c4"
      },
      "cell_type": "code",
      "source": [
        "# NA는 0으로 우선 처리\n",
        "nan_idx = np.isnan(movie_df)\n",
        "movie_df[nan_idx] = 0\n",
        "movie_df"
      ],
      "execution_count": 0,
      "outputs": [
        {
          "output_type": "execute_result",
          "data": {
            "text/html": [
              "<div>\n",
              "<style scoped>\n",
              "    .dataframe tbody tr th:only-of-type {\n",
              "        vertical-align: middle;\n",
              "    }\n",
              "\n",
              "    .dataframe tbody tr th {\n",
              "        vertical-align: top;\n",
              "    }\n",
              "\n",
              "    .dataframe thead th {\n",
              "        text-align: right;\n",
              "    }\n",
              "</style>\n",
              "<table border=\"1\" class=\"dataframe\">\n",
              "  <thead>\n",
              "    <tr style=\"text-align: right;\">\n",
              "      <th></th>\n",
              "      <th>달콤한인생</th>\n",
              "      <th>범죄도시</th>\n",
              "      <th>모아나</th>\n",
              "      <th>도둑들</th>\n",
              "      <th>서치</th>\n",
              "      <th>명당</th>\n",
              "    </tr>\n",
              "  </thead>\n",
              "  <tbody>\n",
              "    <tr>\n",
              "      <th>A</th>\n",
              "      <td>5</td>\n",
              "      <td>3</td>\n",
              "      <td>4.0</td>\n",
              "      <td>0.0</td>\n",
              "      <td>0.0</td>\n",
              "      <td>0.0</td>\n",
              "    </tr>\n",
              "    <tr>\n",
              "      <th>B</th>\n",
              "      <td>5</td>\n",
              "      <td>1</td>\n",
              "      <td>4.0</td>\n",
              "      <td>4.0</td>\n",
              "      <td>3.0</td>\n",
              "      <td>0.0</td>\n",
              "    </tr>\n",
              "    <tr>\n",
              "      <th>C</th>\n",
              "      <td>1</td>\n",
              "      <td>4</td>\n",
              "      <td>3.0</td>\n",
              "      <td>5.0</td>\n",
              "      <td>0.0</td>\n",
              "      <td>2.0</td>\n",
              "    </tr>\n",
              "    <tr>\n",
              "      <th>D</th>\n",
              "      <td>2</td>\n",
              "      <td>1</td>\n",
              "      <td>0.0</td>\n",
              "      <td>0.0</td>\n",
              "      <td>0.0</td>\n",
              "      <td>0.0</td>\n",
              "    </tr>\n",
              "  </tbody>\n",
              "</table>\n",
              "</div>"
            ],
            "text/plain": [
              "   달콤한인생  범죄도시  모아나  도둑들   서치   명당\n",
              "A      5     3  4.0  0.0  0.0  0.0\n",
              "B      5     1  4.0  4.0  3.0  0.0\n",
              "C      1     4  3.0  5.0  0.0  2.0\n",
              "D      2     1  0.0  0.0  0.0  0.0"
            ]
          },
          "metadata": {
            "tags": []
          },
          "execution_count": 151
        }
      ]
    },
    {
      "metadata": {
        "id": "Pi79PPLGeaTY",
        "colab_type": "code",
        "colab": {
          "base_uri": "https://localhost:8080/",
          "height": 235
        },
        "outputId": "d9b83102-e2b0-48d3-aca5-b193a612f938"
      },
      "cell_type": "code",
      "source": [
        "# Step2) '달콤한인생', '범죄도시' 를 기준으로 item별 유사도 측정\n",
        "#        아이템들의 유사도를 상관계수로 구함!\n",
        "\n",
        "corr_mat = movie_df.corr()\n",
        "corr_mat"
      ],
      "execution_count": 0,
      "outputs": [
        {
          "output_type": "execute_result",
          "data": {
            "text/html": [
              "<div>\n",
              "<style scoped>\n",
              "    .dataframe tbody tr th:only-of-type {\n",
              "        vertical-align: middle;\n",
              "    }\n",
              "\n",
              "    .dataframe tbody tr th {\n",
              "        vertical-align: top;\n",
              "    }\n",
              "\n",
              "    .dataframe thead th {\n",
              "        text-align: right;\n",
              "    }\n",
              "</style>\n",
              "<table border=\"1\" class=\"dataframe\">\n",
              "  <thead>\n",
              "    <tr style=\"text-align: right;\">\n",
              "      <th></th>\n",
              "      <th>달콤한인생</th>\n",
              "      <th>범죄도시</th>\n",
              "      <th>모아나</th>\n",
              "      <th>도둑들</th>\n",
              "      <th>서치</th>\n",
              "      <th>명당</th>\n",
              "    </tr>\n",
              "  </thead>\n",
              "  <tbody>\n",
              "    <tr>\n",
              "      <th>달콤한인생</th>\n",
              "      <td>1.000000</td>\n",
              "      <td>-0.350329</td>\n",
              "      <td>0.619268</td>\n",
              "      <td>-0.261291</td>\n",
              "      <td>0.565916</td>\n",
              "      <td>-0.727607</td>\n",
              "    </tr>\n",
              "    <tr>\n",
              "      <th>범죄도시</th>\n",
              "      <td>-0.350329</td>\n",
              "      <td>1.000000</td>\n",
              "      <td>0.381529</td>\n",
              "      <td>0.316862</td>\n",
              "      <td>-0.555556</td>\n",
              "      <td>0.777778</td>\n",
              "    </tr>\n",
              "    <tr>\n",
              "      <th>모아나</th>\n",
              "      <td>0.619268</td>\n",
              "      <td>0.381529</td>\n",
              "      <td>1.000000</td>\n",
              "      <td>0.418472</td>\n",
              "      <td>0.440225</td>\n",
              "      <td>0.088045</td>\n",
              "    </tr>\n",
              "    <tr>\n",
              "      <th>도둑들</th>\n",
              "      <td>-0.261291</td>\n",
              "      <td>0.316862</td>\n",
              "      <td>0.418472</td>\n",
              "      <td>1.000000</td>\n",
              "      <td>0.443607</td>\n",
              "      <td>0.697097</td>\n",
              "    </tr>\n",
              "    <tr>\n",
              "      <th>서치</th>\n",
              "      <td>0.565916</td>\n",
              "      <td>-0.555556</td>\n",
              "      <td>0.440225</td>\n",
              "      <td>0.443607</td>\n",
              "      <td>1.000000</td>\n",
              "      <td>-0.333333</td>\n",
              "    </tr>\n",
              "    <tr>\n",
              "      <th>명당</th>\n",
              "      <td>-0.727607</td>\n",
              "      <td>0.777778</td>\n",
              "      <td>0.088045</td>\n",
              "      <td>0.697097</td>\n",
              "      <td>-0.333333</td>\n",
              "      <td>1.000000</td>\n",
              "    </tr>\n",
              "  </tbody>\n",
              "</table>\n",
              "</div>"
            ],
            "text/plain": [
              "          달콤한인생      범죄도시       모아나       도둑들        서치        명당\n",
              "달콤한인생  1.000000 -0.350329  0.619268 -0.261291  0.565916 -0.727607\n",
              "범죄도시  -0.350329  1.000000  0.381529  0.316862 -0.555556  0.777778\n",
              "모아나    0.619268  0.381529  1.000000  0.418472  0.440225  0.088045\n",
              "도둑들   -0.261291  0.316862  0.418472  1.000000  0.443607  0.697097\n",
              "서치     0.565916 -0.555556  0.440225  0.443607  1.000000 -0.333333\n",
              "명당    -0.727607  0.777778  0.088045  0.697097 -0.333333  1.000000"
            ]
          },
          "metadata": {
            "tags": []
          },
          "execution_count": 154
        }
      ]
    },
    {
      "metadata": {
        "id": "es834dwTeaTf",
        "colab_type": "code",
        "colab": {
          "base_uri": "https://localhost:8080/",
          "height": 235
        },
        "outputId": "6f50ebd4-bd35-4ade-e86a-ce3e2b9c184d"
      },
      "cell_type": "code",
      "source": [
        "# 유사도 확인\n",
        "D_similarity = corr_mat[['달콤한인생','범죄도시']]"
      ],
      "execution_count": 0,
      "outputs": [
        {
          "output_type": "execute_result",
          "data": {
            "text/html": [
              "<div>\n",
              "<style scoped>\n",
              "    .dataframe tbody tr th:only-of-type {\n",
              "        vertical-align: middle;\n",
              "    }\n",
              "\n",
              "    .dataframe tbody tr th {\n",
              "        vertical-align: top;\n",
              "    }\n",
              "\n",
              "    .dataframe thead th {\n",
              "        text-align: right;\n",
              "    }\n",
              "</style>\n",
              "<table border=\"1\" class=\"dataframe\">\n",
              "  <thead>\n",
              "    <tr style=\"text-align: right;\">\n",
              "      <th></th>\n",
              "      <th>달콤한인생</th>\n",
              "      <th>범죄도시</th>\n",
              "    </tr>\n",
              "  </thead>\n",
              "  <tbody>\n",
              "    <tr>\n",
              "      <th>달콤한인생</th>\n",
              "      <td>1.000000</td>\n",
              "      <td>0.350329</td>\n",
              "    </tr>\n",
              "    <tr>\n",
              "      <th>범죄도시</th>\n",
              "      <td>0.350329</td>\n",
              "      <td>1.000000</td>\n",
              "    </tr>\n",
              "    <tr>\n",
              "      <th>모아나</th>\n",
              "      <td>0.619268</td>\n",
              "      <td>0.381529</td>\n",
              "    </tr>\n",
              "    <tr>\n",
              "      <th>도둑들</th>\n",
              "      <td>0.261291</td>\n",
              "      <td>0.316862</td>\n",
              "    </tr>\n",
              "    <tr>\n",
              "      <th>서치</th>\n",
              "      <td>0.565916</td>\n",
              "      <td>0.555556</td>\n",
              "    </tr>\n",
              "    <tr>\n",
              "      <th>명당</th>\n",
              "      <td>0.727607</td>\n",
              "      <td>0.777778</td>\n",
              "    </tr>\n",
              "  </tbody>\n",
              "</table>\n",
              "</div>"
            ],
            "text/plain": [
              "          달콤한인생      범죄도시\n",
              "달콤한인생  1.000000  0.350329\n",
              "범죄도시   0.350329  1.000000\n",
              "모아나    0.619268  0.381529\n",
              "도둑들    0.261291  0.316862\n",
              "서치     0.565916  0.555556\n",
              "명당     0.727607  0.777778"
            ]
          },
          "metadata": {
            "tags": []
          },
          "execution_count": 163
        }
      ]
    },
    {
      "metadata": {
        "id": "_5JIlgFC5sQU",
        "colab_type": "code",
        "colab": {
          "base_uri": "https://localhost:8080/",
          "height": 143
        },
        "outputId": "24a5eb44-1974-49a7-b13d-bad4d833f170"
      },
      "cell_type": "code",
      "source": [
        "# Step3) 유사도를 기준으로 item 평점 계산하기\n",
        "# D는 '달콤한인생'에 2점, 범죄도시에 1점을 줬음\n",
        "\n",
        "res = D_similarity['달콤한인생'] * 2  + D_similarity['범죄도시'] * 1\n",
        "res"
      ],
      "execution_count": 0,
      "outputs": [
        {
          "output_type": "execute_result",
          "data": {
            "text/plain": [
              "달콤한인생    1.649671\n",
              "범죄도시     0.299342\n",
              "모아나      1.620065\n",
              "도둑들     -0.205720\n",
              "서치       0.576277\n",
              "명당      -0.677436\n",
              "dtype: float64"
            ]
          },
          "metadata": {
            "tags": []
          },
          "execution_count": 169
        }
      ]
    },
    {
      "metadata": {
        "id": "4bB-Qd7meaTs",
        "colab_type": "code",
        "colab": {
          "base_uri": "https://localhost:8080/",
          "height": 173
        },
        "outputId": "63b5c8d4-7116-4ef1-dad4-6be18ac07d33"
      },
      "cell_type": "code",
      "source": [
        "# Step4) 'D' 에게 적절한 영화 추천\n",
        "\n",
        "# 예측한 평점순으로 정렬!\n",
        "res.sort_values(ascending=False)\n",
        "\n",
        "\n",
        "## D한테 '모아나' 영화 추천 !"
      ],
      "execution_count": 0,
      "outputs": [
        {
          "output_type": "execute_result",
          "data": {
            "text/html": [
              "<div>\n",
              "<style scoped>\n",
              "    .dataframe tbody tr th:only-of-type {\n",
              "        vertical-align: middle;\n",
              "    }\n",
              "\n",
              "    .dataframe tbody tr th {\n",
              "        vertical-align: top;\n",
              "    }\n",
              "\n",
              "    .dataframe thead th {\n",
              "        text-align: right;\n",
              "    }\n",
              "</style>\n",
              "<table border=\"1\" class=\"dataframe\">\n",
              "  <thead>\n",
              "    <tr style=\"text-align: right;\">\n",
              "      <th></th>\n",
              "      <th>달콤한인생</th>\n",
              "      <th>범죄도시</th>\n",
              "      <th>모아나</th>\n",
              "      <th>도둑들</th>\n",
              "      <th>서치</th>\n",
              "      <th>명당</th>\n",
              "    </tr>\n",
              "  </thead>\n",
              "  <tbody>\n",
              "    <tr>\n",
              "      <th>A</th>\n",
              "      <td>5</td>\n",
              "      <td>3</td>\n",
              "      <td>4.0</td>\n",
              "      <td>0.0</td>\n",
              "      <td>0.0</td>\n",
              "      <td>0.0</td>\n",
              "    </tr>\n",
              "    <tr>\n",
              "      <th>B</th>\n",
              "      <td>5</td>\n",
              "      <td>1</td>\n",
              "      <td>4.0</td>\n",
              "      <td>4.0</td>\n",
              "      <td>3.0</td>\n",
              "      <td>0.0</td>\n",
              "    </tr>\n",
              "    <tr>\n",
              "      <th>C</th>\n",
              "      <td>1</td>\n",
              "      <td>4</td>\n",
              "      <td>3.0</td>\n",
              "      <td>5.0</td>\n",
              "      <td>0.0</td>\n",
              "      <td>2.0</td>\n",
              "    </tr>\n",
              "    <tr>\n",
              "      <th>D</th>\n",
              "      <td>2</td>\n",
              "      <td>1</td>\n",
              "      <td>0.0</td>\n",
              "      <td>0.0</td>\n",
              "      <td>0.0</td>\n",
              "      <td>0.0</td>\n",
              "    </tr>\n",
              "  </tbody>\n",
              "</table>\n",
              "</div>"
            ],
            "text/plain": [
              "   달콤한인생  범죄도시  모아나  도둑들   서치   명당\n",
              "A      5     3  4.0  0.0  0.0  0.0\n",
              "B      5     1  4.0  4.0  3.0  0.0\n",
              "C      1     4  3.0  5.0  0.0  2.0\n",
              "D      2     1  0.0  0.0  0.0  0.0"
            ]
          },
          "metadata": {
            "tags": []
          },
          "execution_count": 148
        }
      ]
    },
    {
      "metadata": {
        "id": "zgieX8CEK7mu",
        "colab_type": "text"
      },
      "cell_type": "markdown",
      "source": [
        "### Matrix Factorization"
      ]
    },
    {
      "metadata": {
        "id": "fHgF735z2x_Q",
        "colab_type": "text"
      },
      "cell_type": "markdown",
      "source": [
        "#### Matrix operator (행렬 연산) "
      ]
    },
    {
      "metadata": {
        "id": "X1y9g5xRK-Qu",
        "colab_type": "code",
        "colab": {
          "base_uri": "https://localhost:8080/",
          "height": 53
        },
        "outputId": "063ff5a7-5bdb-4bec-8228-9353a1da179a"
      },
      "cell_type": "code",
      "source": [
        "# matrix\n",
        "\n",
        "A = np.matrix('3 1 ; 8 2')\n",
        "A"
      ],
      "execution_count": 0,
      "outputs": [
        {
          "output_type": "execute_result",
          "data": {
            "text/plain": [
              "matrix([[3, 1],\n",
              "        [8, 2]])"
            ]
          },
          "metadata": {
            "tags": []
          },
          "execution_count": 144
        }
      ]
    },
    {
      "metadata": {
        "id": "3OJpmoi525LF",
        "colab_type": "code",
        "colab": {
          "base_uri": "https://localhost:8080/",
          "height": 53
        },
        "outputId": "7fa6f9c2-a71c-493f-e772-1bab0b3662f8"
      },
      "cell_type": "code",
      "source": [
        "B = np.matrix('6 1; 7 9')\n",
        "B"
      ],
      "execution_count": 0,
      "outputs": [
        {
          "output_type": "execute_result",
          "data": {
            "text/plain": [
              "matrix([[6, 1],\n",
              "        [7, 9]])"
            ]
          },
          "metadata": {
            "tags": []
          },
          "execution_count": 145
        }
      ]
    },
    {
      "metadata": {
        "id": "0AegfDjI25R6",
        "colab_type": "code",
        "colab": {}
      },
      "cell_type": "code",
      "source": [
        "# 행렬의 합\n",
        "A + B\n",
        "\n",
        "# 행렬의 뺄셈\n",
        "A - B\n",
        "\n",
        "# 행렬의 곱\n",
        "A * B\n",
        "\n",
        "# 전치 행렬\n",
        "A.T\n",
        "\n",
        "# 역행렬\n",
        "# linalg = linear algebra (선행대수)\n",
        "np.linalg.inv(A)"
      ],
      "execution_count": 0,
      "outputs": []
    },
    {
      "metadata": {
        "id": "Gc-jH7ZMCdT0",
        "colab_type": "text"
      },
      "cell_type": "markdown",
      "source": [
        "##### SVD"
      ]
    },
    {
      "metadata": {
        "id": "jY2HbUulCbK_",
        "colab_type": "code",
        "colab": {}
      },
      "cell_type": "code",
      "source": [
        "# 영화에 대한 평가 점수가 다음과 같다\n",
        "\n",
        "movie={\n",
        "     'A':{'달콤한인생':5,'범죄도시':3,'모아나':4},\n",
        "     'B':{'달콤한인생':5,'범죄도시':1,'도둑들':4,'모아나':4, '서치':3},\n",
        "     'C':{'달콤한인생':1,'범죄도시':4,'도둑들':5,'모아나':3, '명당':2},\n",
        "     'D':{'달콤한인생':2,'범죄도시':1}\n",
        "}"
      ],
      "execution_count": 0,
      "outputs": []
    },
    {
      "metadata": {
        "id": "ktI5mWPJWazt",
        "colab_type": "code",
        "colab": {}
      },
      "cell_type": "code",
      "source": [
        "movie_df = pd.DataFrame.from_dict(movie, orient = 'index')"
      ],
      "execution_count": 0,
      "outputs": []
    },
    {
      "metadata": {
        "id": "AwnfJ3QNXr2u",
        "colab_type": "code",
        "colab": {
          "base_uri": "https://localhost:8080/",
          "height": 173
        },
        "outputId": "64c6ad05-57de-4d85-ddc1-769638a8ca4a"
      },
      "cell_type": "code",
      "source": [
        "# NA는 0으로 우선 처리\n",
        "nan_idx = np.isnan(movie_df)\n",
        "movie_df[nan_idx] = 0\n",
        "movie_df"
      ],
      "execution_count": 0,
      "outputs": [
        {
          "output_type": "execute_result",
          "data": {
            "text/html": [
              "<div>\n",
              "<style scoped>\n",
              "    .dataframe tbody tr th:only-of-type {\n",
              "        vertical-align: middle;\n",
              "    }\n",
              "\n",
              "    .dataframe tbody tr th {\n",
              "        vertical-align: top;\n",
              "    }\n",
              "\n",
              "    .dataframe thead th {\n",
              "        text-align: right;\n",
              "    }\n",
              "</style>\n",
              "<table border=\"1\" class=\"dataframe\">\n",
              "  <thead>\n",
              "    <tr style=\"text-align: right;\">\n",
              "      <th></th>\n",
              "      <th>달콤한인생</th>\n",
              "      <th>범죄도시</th>\n",
              "      <th>모아나</th>\n",
              "      <th>도둑들</th>\n",
              "      <th>서치</th>\n",
              "      <th>명당</th>\n",
              "    </tr>\n",
              "  </thead>\n",
              "  <tbody>\n",
              "    <tr>\n",
              "      <th>A</th>\n",
              "      <td>5</td>\n",
              "      <td>3</td>\n",
              "      <td>4.0</td>\n",
              "      <td>0.0</td>\n",
              "      <td>0.0</td>\n",
              "      <td>0.0</td>\n",
              "    </tr>\n",
              "    <tr>\n",
              "      <th>B</th>\n",
              "      <td>5</td>\n",
              "      <td>1</td>\n",
              "      <td>4.0</td>\n",
              "      <td>4.0</td>\n",
              "      <td>3.0</td>\n",
              "      <td>0.0</td>\n",
              "    </tr>\n",
              "    <tr>\n",
              "      <th>C</th>\n",
              "      <td>1</td>\n",
              "      <td>4</td>\n",
              "      <td>3.0</td>\n",
              "      <td>5.0</td>\n",
              "      <td>0.0</td>\n",
              "      <td>2.0</td>\n",
              "    </tr>\n",
              "    <tr>\n",
              "      <th>D</th>\n",
              "      <td>2</td>\n",
              "      <td>1</td>\n",
              "      <td>0.0</td>\n",
              "      <td>0.0</td>\n",
              "      <td>0.0</td>\n",
              "      <td>0.0</td>\n",
              "    </tr>\n",
              "  </tbody>\n",
              "</table>\n",
              "</div>"
            ],
            "text/plain": [
              "   달콤한인생  범죄도시  모아나  도둑들   서치   명당\n",
              "A      5     3  4.0  0.0  0.0  0.0\n",
              "B      5     1  4.0  4.0  3.0  0.0\n",
              "C      1     4  3.0  5.0  0.0  2.0\n",
              "D      2     1  0.0  0.0  0.0  0.0"
            ]
          },
          "metadata": {
            "tags": []
          },
          "execution_count": 123
        }
      ]
    },
    {
      "metadata": {
        "id": "9OZ8wSWrWa5k",
        "colab_type": "code",
        "colab": {
          "base_uri": "https://localhost:8080/",
          "height": 323
        },
        "outputId": "4a7ac038-f769-4023-e9ad-3b9397d49ae3"
      },
      "cell_type": "code",
      "source": [
        "# SVD \n",
        "np.linalg.svd(movie_df)"
      ],
      "execution_count": 0,
      "outputs": [
        {
          "output_type": "execute_result",
          "data": {
            "text/plain": [
              "(array([[-0.52604049, -0.53733777, -0.59393496, -0.28599089],\n",
              "        [-0.65725107, -0.16979472,  0.73429   ,  0.0029976 ],\n",
              "        [-0.52375574,  0.8020186 , -0.28353424,  0.04532569],\n",
              "        [-0.13031642, -0.19800008, -0.16633638,  0.95715506]]),\n",
              " array([11.707668  ,  5.04075299,  3.61760229,  1.19761133]),\n",
              " array([[-0.5723468 , -0.38100772, -0.53848755, -0.44823469, -0.16841554,\n",
              "         -0.08947226],\n",
              "        [-0.62086836,  0.24366723, -0.08381172,  0.66079693, -0.10105319,\n",
              "          0.31821381],\n",
              "        [ 0.02365328, -0.64904544, -0.07993764,  0.42002648,  0.60893095,\n",
              "         -0.15675258],\n",
              "        [ 0.45479646,  0.23670682, -0.83165217,  0.19924567,  0.00750895,\n",
              "          0.07569349],\n",
              "        [-0.22116867,  0.44233734, -0.05529217, -0.35436215,  0.76737442,\n",
              "          0.19475327],\n",
              "        [ 0.17500498, -0.35000997,  0.04375125, -0.14401201, -0.04132397,\n",
              "          0.9069206 ]]))"
            ]
          },
          "metadata": {
            "tags": []
          },
          "execution_count": 125
        }
      ]
    },
    {
      "metadata": {
        "id": "lQxRui3gdhcb",
        "colab_type": "code",
        "colab": {}
      },
      "cell_type": "code",
      "source": [
        "U, D, V = np.linalg.svd(movie_df)"
      ],
      "execution_count": 0,
      "outputs": []
    },
    {
      "metadata": {
        "id": "70zNm8xm1R_9",
        "colab_type": "text"
      },
      "cell_type": "markdown",
      "source": [
        "**Work) U * D * V 의 값이 원래의 R과 같아지는지 확인해보시오. **"
      ]
    },
    {
      "metadata": {
        "id": "bOra_kAs1dMH",
        "colab_type": "code",
        "colab": {}
      },
      "cell_type": "code",
      "source": [
        ""
      ],
      "execution_count": 0,
      "outputs": []
    },
    {
      "metadata": {
        "id": "KBieyjDI1eKU",
        "colab_type": "text"
      },
      "cell_type": "markdown",
      "source": [
        "#### 참고코드"
      ]
    },
    {
      "metadata": {
        "id": "em4lmHboii-0",
        "colab_type": "code",
        "colab": {
          "base_uri": "https://localhost:8080/",
          "height": 89
        },
        "outputId": "1d113563-6bd5-4483-8b43-c45ba0c671cc"
      },
      "cell_type": "code",
      "source": [
        "# D 는 singular values로 나타남. matrix로 바꿔주자!\n",
        "D_mat = np.zeros((movie_df.shape[0], movie_df.shape[1]))\n",
        "D_mat"
      ],
      "execution_count": 0,
      "outputs": [
        {
          "output_type": "execute_result",
          "data": {
            "text/plain": [
              "array([[0., 0., 0., 0., 0., 0.],\n",
              "       [0., 0., 0., 0., 0., 0.],\n",
              "       [0., 0., 0., 0., 0., 0.],\n",
              "       [0., 0., 0., 0., 0., 0.]])"
            ]
          },
          "metadata": {
            "tags": []
          },
          "execution_count": 128
        }
      ]
    },
    {
      "metadata": {
        "id": "hcyxKwwvi28m",
        "colab_type": "code",
        "colab": {
          "base_uri": "https://localhost:8080/",
          "height": 89
        },
        "outputId": "f6ede603-206c-4763-d039-a0ad56d055c0"
      },
      "cell_type": "code",
      "source": [
        "D_mat[:movie_df.shape[0], :movie_df.shape[0]] = np.diag(D)\n",
        "print(D_mat)"
      ],
      "execution_count": 0,
      "outputs": [
        {
          "output_type": "stream",
          "text": [
            "[[11.707668    0.          0.          0.          0.          0.        ]\n",
            " [ 0.          5.04075299  0.          0.          0.          0.        ]\n",
            " [ 0.          0.          3.61760229  0.          0.          0.        ]\n",
            " [ 0.          0.          0.          1.19761133  0.          0.        ]]\n"
          ],
          "name": "stdout"
        }
      ]
    },
    {
      "metadata": {
        "id": "BrveLGYSjHCv",
        "colab_type": "code",
        "colab": {
          "base_uri": "https://localhost:8080/",
          "height": 161
        },
        "outputId": "a7b340b9-a6af-454c-86f1-7f2f59eb1356"
      },
      "cell_type": "code",
      "source": [
        "# SVD 확인\n",
        "# 행렬의 곱셈은 다양한 방법으로 가능 \n",
        "\n",
        "\n",
        "U @ D_mat @ V\n",
        "# np.dot(np.dot(U, D_mat), V)\n",
        "# np.matmul(np.matmul(U, D_mat), V.T)"
      ],
      "execution_count": 0,
      "outputs": [
        {
          "output_type": "execute_result",
          "data": {
            "text/plain": [
              "array([[ 5.00000000e+00,  3.00000000e+00,  4.00000000e+00,\n",
              "        -4.18449776e-16,  1.30427274e-15, -6.56078660e-16],\n",
              "       [ 5.00000000e+00,  1.00000000e+00,  4.00000000e+00,\n",
              "         4.00000000e+00,  3.00000000e+00,  7.61055109e-16],\n",
              "       [ 1.00000000e+00,  4.00000000e+00,  3.00000000e+00,\n",
              "         5.00000000e+00,  5.96566641e-16,  2.00000000e+00],\n",
              "       [ 2.00000000e+00,  1.00000000e+00,  3.13646059e-16,\n",
              "        -5.54929202e-16,  3.33170233e-16, -3.71883018e-16]])"
            ]
          },
          "metadata": {
            "tags": []
          },
          "execution_count": 140
        }
      ]
    },
    {
      "metadata": {
        "id": "hEBCou0xpwlN",
        "colab_type": "code",
        "colab": {
          "base_uri": "https://localhost:8080/",
          "height": 89
        },
        "outputId": "60a2973e-5245-4942-a10d-13594bf14da7"
      },
      "cell_type": "code",
      "source": [
        "R = U @ D_mat @ V\n",
        "R.round()"
      ],
      "execution_count": 0,
      "outputs": [
        {
          "output_type": "execute_result",
          "data": {
            "text/plain": [
              "array([[ 5.,  3.,  4., -0.,  0., -0.],\n",
              "       [ 5.,  1.,  4.,  4.,  3.,  0.],\n",
              "       [ 1.,  4.,  3.,  5.,  0.,  2.],\n",
              "       [ 2.,  1.,  0., -0.,  0., -0.]])"
            ]
          },
          "metadata": {
            "tags": []
          },
          "execution_count": 151
        }
      ]
    },
    {
      "metadata": {
        "id": "Jut8Dmy4o--B",
        "colab_type": "code",
        "colab": {
          "base_uri": "https://localhost:8080/",
          "height": 173
        },
        "outputId": "bcdfd099-c86a-4133-acc1-4559d67e430f"
      },
      "cell_type": "code",
      "source": [
        "movie_df"
      ],
      "execution_count": 0,
      "outputs": [
        {
          "output_type": "execute_result",
          "data": {
            "text/html": [
              "<div>\n",
              "<style scoped>\n",
              "    .dataframe tbody tr th:only-of-type {\n",
              "        vertical-align: middle;\n",
              "    }\n",
              "\n",
              "    .dataframe tbody tr th {\n",
              "        vertical-align: top;\n",
              "    }\n",
              "\n",
              "    .dataframe thead th {\n",
              "        text-align: right;\n",
              "    }\n",
              "</style>\n",
              "<table border=\"1\" class=\"dataframe\">\n",
              "  <thead>\n",
              "    <tr style=\"text-align: right;\">\n",
              "      <th></th>\n",
              "      <th>달콤한인생</th>\n",
              "      <th>범죄도시</th>\n",
              "      <th>모아나</th>\n",
              "      <th>도둑들</th>\n",
              "      <th>서치</th>\n",
              "      <th>명당</th>\n",
              "    </tr>\n",
              "  </thead>\n",
              "  <tbody>\n",
              "    <tr>\n",
              "      <th>A</th>\n",
              "      <td>5</td>\n",
              "      <td>3</td>\n",
              "      <td>4.0</td>\n",
              "      <td>0.0</td>\n",
              "      <td>0.0</td>\n",
              "      <td>0.0</td>\n",
              "    </tr>\n",
              "    <tr>\n",
              "      <th>B</th>\n",
              "      <td>5</td>\n",
              "      <td>1</td>\n",
              "      <td>4.0</td>\n",
              "      <td>4.0</td>\n",
              "      <td>3.0</td>\n",
              "      <td>0.0</td>\n",
              "    </tr>\n",
              "    <tr>\n",
              "      <th>C</th>\n",
              "      <td>1</td>\n",
              "      <td>4</td>\n",
              "      <td>3.0</td>\n",
              "      <td>5.0</td>\n",
              "      <td>0.0</td>\n",
              "      <td>2.0</td>\n",
              "    </tr>\n",
              "    <tr>\n",
              "      <th>D</th>\n",
              "      <td>2</td>\n",
              "      <td>1</td>\n",
              "      <td>0.0</td>\n",
              "      <td>0.0</td>\n",
              "      <td>0.0</td>\n",
              "      <td>0.0</td>\n",
              "    </tr>\n",
              "  </tbody>\n",
              "</table>\n",
              "</div>"
            ],
            "text/plain": [
              "   달콤한인생  범죄도시  모아나  도둑들   서치   명당\n",
              "A      5     3  4.0  0.0  0.0  0.0\n",
              "B      5     1  4.0  4.0  3.0  0.0\n",
              "C      1     4  3.0  5.0  0.0  2.0\n",
              "D      2     1  0.0  0.0  0.0  0.0"
            ]
          },
          "metadata": {
            "tags": []
          },
          "execution_count": 139
        }
      ]
    },
    {
      "metadata": {
        "id": "8E3ZWJ3d1F4u",
        "colab_type": "text"
      },
      "cell_type": "markdown",
      "source": [
        "**분해한 것을 다시 곱하니 원래의 R과 똑같아 졌음 **"
      ]
    },
    {
      "metadata": {
        "id": "-JA4LYgG1q05",
        "colab_type": "text"
      },
      "cell_type": "markdown",
      "source": [
        "#### singular value중 일부만 선택해서 matrix를 재구성 하자"
      ]
    },
    {
      "metadata": {
        "id": "nS4i3XspdlS5",
        "colab_type": "code",
        "colab": {
          "base_uri": "https://localhost:8080/",
          "height": 35
        },
        "outputId": "ec31648a-01bd-426a-c75f-c0bdd027946a"
      },
      "cell_type": "code",
      "source": [
        "# singular values의 갯수를 결정해주자!\n",
        "# 보통은 전체의 80~90%에 해당하는 값으로 결정\n",
        "\n",
        "np.cumsum(D)/np.sum(D)"
      ],
      "execution_count": 0,
      "outputs": [
        {
          "output_type": "execute_result",
          "data": {
            "text/plain": [
              "array([0.54293574, 0.7766975 , 0.94446153, 1.        ])"
            ]
          },
          "metadata": {
            "tags": []
          },
          "execution_count": 33
        }
      ]
    },
    {
      "metadata": {
        "id": "dEiB_kmGhbFi",
        "colab_type": "text"
      },
      "cell_type": "markdown",
      "source": [
        "** 3개의 singular values를 써야 해! **"
      ]
    },
    {
      "metadata": {
        "id": "5wx5M80WqHqo",
        "colab_type": "text"
      },
      "cell_type": "markdown",
      "source": [
        "**Work) 3개의 singular values만 뽑아서 새로운 R 행렬을 만들어보고, 원래의 R 행렬과 얼마나 다른지 확인해보자 (10분)**"
      ]
    },
    {
      "metadata": {
        "id": "PA7CRrtQ11mX",
        "colab_type": "code",
        "colab": {}
      },
      "cell_type": "code",
      "source": [
        ""
      ],
      "execution_count": 0,
      "outputs": []
    },
    {
      "metadata": {
        "id": "k2dlyXhQ1161",
        "colab_type": "text"
      },
      "cell_type": "markdown",
      "source": [
        "#### 참고코드"
      ]
    },
    {
      "metadata": {
        "id": "cmtzUP6zeLiB",
        "colab_type": "code",
        "colab": {
          "base_uri": "https://localhost:8080/",
          "height": 89
        },
        "outputId": "a9b3d537-c725-4566-813d-a279b1b0fed2"
      },
      "cell_type": "code",
      "source": [
        "# U : 4 * 3 , D : 3 * 3,  V: 3*6\n",
        "\n",
        "\n",
        "\n",
        "U2 = U[:, 0:3]\n",
        "U2"
      ],
      "execution_count": 0,
      "outputs": [
        {
          "output_type": "execute_result",
          "data": {
            "text/plain": [
              "array([[-0.52604049, -0.53733777, -0.59393496],\n",
              "       [-0.65725107, -0.16979472,  0.73429   ],\n",
              "       [-0.52375574,  0.8020186 , -0.28353424],\n",
              "       [-0.13031642, -0.19800008, -0.16633638]])"
            ]
          },
          "metadata": {
            "tags": []
          },
          "execution_count": 77
        }
      ]
    },
    {
      "metadata": {
        "id": "O4lhu9AugBLK",
        "colab_type": "code",
        "colab": {
          "base_uri": "https://localhost:8080/",
          "height": 71
        },
        "outputId": "3a45b6ee-cc8f-41cc-9034-5e1ed82ddac7"
      },
      "cell_type": "code",
      "source": [
        "D2 = D_mat[0:3, 0:3]\n",
        "D2"
      ],
      "execution_count": 0,
      "outputs": [
        {
          "output_type": "execute_result",
          "data": {
            "text/plain": [
              "array([[11.707668  ,  0.        ,  0.        ],\n",
              "       [ 0.        ,  5.04075299,  0.        ],\n",
              "       [ 0.        ,  0.        ,  3.61760229]])"
            ]
          },
          "metadata": {
            "tags": []
          },
          "execution_count": 153
        }
      ]
    },
    {
      "metadata": {
        "id": "qB2VQ2nWhYZJ",
        "colab_type": "code",
        "colab": {
          "base_uri": "https://localhost:8080/",
          "height": 125
        },
        "outputId": "78e0cd74-9c7e-452a-c6bc-59ce52deabc6"
      },
      "cell_type": "code",
      "source": [
        "V2 = V[0:3,]\n",
        "V2"
      ],
      "execution_count": 0,
      "outputs": [
        {
          "output_type": "execute_result",
          "data": {
            "text/plain": [
              "array([[-0.5723468 , -0.38100772, -0.53848755, -0.44823469, -0.16841554,\n",
              "        -0.08947226],\n",
              "       [-0.62086836,  0.24366723, -0.08381172,  0.66079693, -0.10105319,\n",
              "         0.31821381],\n",
              "       [ 0.02365328, -0.64904544, -0.07993764,  0.42002648,  0.60893095,\n",
              "        -0.15675258]])"
            ]
          },
          "metadata": {
            "tags": []
          },
          "execution_count": 154
        }
      ]
    },
    {
      "metadata": {
        "id": "f1Hg0PvdfRDg",
        "colab_type": "code",
        "colab": {
          "base_uri": "https://localhost:8080/",
          "height": 89
        },
        "outputId": "fc6db397-dc65-4db3-8859-89f89417b8d4"
      },
      "cell_type": "code",
      "source": [
        "R2 = U2 @ D2 @ V2\n",
        "R2.round(1)"
      ],
      "execution_count": 0,
      "outputs": [
        {
          "output_type": "execute_result",
          "data": {
            "text/plain": [
              "array([[ 5.2,  3.1,  3.7,  0.1,  0. ,  0. ],\n",
              "       [ 5. ,  1. ,  4. ,  4. ,  3. , -0. ],\n",
              "       [ 1. ,  4. ,  3. ,  5. , -0. ,  2. ],\n",
              "       [ 1.5,  0.7,  1. , -0.2, -0. , -0.1]])"
            ]
          },
          "metadata": {
            "tags": []
          },
          "execution_count": 157
        }
      ]
    },
    {
      "metadata": {
        "id": "g9Wktudchj-q",
        "colab_type": "code",
        "colab": {
          "base_uri": "https://localhost:8080/",
          "height": 173
        },
        "outputId": "55236bfc-9c47-45e7-980f-b715ec458629"
      },
      "cell_type": "code",
      "source": [
        "movie_df"
      ],
      "execution_count": 0,
      "outputs": [
        {
          "output_type": "execute_result",
          "data": {
            "text/html": [
              "<div>\n",
              "<style scoped>\n",
              "    .dataframe tbody tr th:only-of-type {\n",
              "        vertical-align: middle;\n",
              "    }\n",
              "\n",
              "    .dataframe tbody tr th {\n",
              "        vertical-align: top;\n",
              "    }\n",
              "\n",
              "    .dataframe thead th {\n",
              "        text-align: right;\n",
              "    }\n",
              "</style>\n",
              "<table border=\"1\" class=\"dataframe\">\n",
              "  <thead>\n",
              "    <tr style=\"text-align: right;\">\n",
              "      <th></th>\n",
              "      <th>달콤한인생</th>\n",
              "      <th>범죄도시</th>\n",
              "      <th>모아나</th>\n",
              "      <th>도둑들</th>\n",
              "      <th>서치</th>\n",
              "      <th>명당</th>\n",
              "    </tr>\n",
              "  </thead>\n",
              "  <tbody>\n",
              "    <tr>\n",
              "      <th>A</th>\n",
              "      <td>5</td>\n",
              "      <td>3</td>\n",
              "      <td>4.0</td>\n",
              "      <td>0.0</td>\n",
              "      <td>0.0</td>\n",
              "      <td>0.0</td>\n",
              "    </tr>\n",
              "    <tr>\n",
              "      <th>B</th>\n",
              "      <td>5</td>\n",
              "      <td>1</td>\n",
              "      <td>4.0</td>\n",
              "      <td>4.0</td>\n",
              "      <td>3.0</td>\n",
              "      <td>0.0</td>\n",
              "    </tr>\n",
              "    <tr>\n",
              "      <th>C</th>\n",
              "      <td>1</td>\n",
              "      <td>4</td>\n",
              "      <td>3.0</td>\n",
              "      <td>5.0</td>\n",
              "      <td>0.0</td>\n",
              "      <td>2.0</td>\n",
              "    </tr>\n",
              "    <tr>\n",
              "      <th>D</th>\n",
              "      <td>2</td>\n",
              "      <td>1</td>\n",
              "      <td>0.0</td>\n",
              "      <td>0.0</td>\n",
              "      <td>0.0</td>\n",
              "      <td>0.0</td>\n",
              "    </tr>\n",
              "  </tbody>\n",
              "</table>\n",
              "</div>"
            ],
            "text/plain": [
              "   달콤한인생  범죄도시  모아나  도둑들   서치   명당\n",
              "A      5     3  4.0  0.0  0.0  0.0\n",
              "B      5     1  4.0  4.0  3.0  0.0\n",
              "C      1     4  3.0  5.0  0.0  2.0\n",
              "D      2     1  0.0  0.0  0.0  0.0"
            ]
          },
          "metadata": {
            "tags": []
          },
          "execution_count": 159
        }
      ]
    },
    {
      "metadata": {
        "id": "D66yd0qSq-kG",
        "colab_type": "text"
      },
      "cell_type": "markdown",
      "source": [
        "**원본 데이터와 값이 조금은 달라지긴 하지만, 크게 변하진 않아. 즉 차원 축소해도 정보의 손실이 적어!**\n",
        "\n",
        "** 큰 matrix를 작은 matrix로 줄일 수 있음 **"
      ]
    },
    {
      "metadata": {
        "id": "1cz2PMXO17Ha",
        "colab_type": "text"
      },
      "cell_type": "markdown",
      "source": [
        "#### Work) svd를 이용한 영화 추천 "
      ]
    },
    {
      "metadata": {
        "id": "wMwz_GIV8jqk",
        "colab_type": "code",
        "colab": {}
      },
      "cell_type": "code",
      "source": [
        "# 영화에 대한 평가 점수가 다음과 같다\n",
        "\n",
        "movie={\n",
        "     'A':{'달콤한인생':5,'범죄도시':3,'모아나':4},\n",
        "     'B':{'달콤한인생':5,'범죄도시':1,'도둑들':4,'모아나':4, '서치':3},\n",
        "     'C':{'달콤한인생':1,'범죄도시':4,'도둑들':5,'모아나':3, '명당':2},\n",
        "     'D':{'달콤한인생':2,'범죄도시':1}\n",
        "}"
      ],
      "execution_count": 0,
      "outputs": []
    },
    {
      "metadata": {
        "id": "bjU3INZ0Wa4V",
        "colab_type": "code",
        "colab": {}
      },
      "cell_type": "code",
      "source": [
        "# SVD를 이용해 영화 추천을 하시오. (User 기준으로 할지, Item 기준으로 할지 본인의 선택하기)"
      ],
      "execution_count": 0,
      "outputs": []
    },
    {
      "metadata": {
        "id": "46B3gkTB5cwX",
        "colab_type": "code",
        "colab": {}
      },
      "cell_type": "code",
      "source": [
        "#1) User matrix 이나 Item matrix를 만드시오"
      ],
      "execution_count": 0,
      "outputs": []
    },
    {
      "metadata": {
        "id": "U8rUOckU5fZQ",
        "colab_type": "code",
        "colab": {}
      },
      "cell_type": "code",
      "source": [
        "#2) User matrix로 User-User 유사도 matrix를 만드시오 "
      ],
      "execution_count": 0,
      "outputs": []
    },
    {
      "metadata": {
        "id": "EJnFOG_95mKj",
        "colab_type": "code",
        "colab": {}
      },
      "cell_type": "code",
      "source": [
        "#3) 위에서 만든 유사도 matrix를 기준으로 아이템을 추천하시오"
      ],
      "execution_count": 0,
      "outputs": []
    },
    {
      "metadata": {
        "id": "aHfb5zmQ8IPP",
        "colab_type": "text"
      },
      "cell_type": "markdown",
      "source": [
        "#### 참고코드"
      ]
    },
    {
      "metadata": {
        "id": "8kVI64qg8KgD",
        "colab_type": "code",
        "colab": {
          "base_uri": "https://localhost:8080/",
          "height": 173
        },
        "outputId": "394dc4c2-1741-4cdc-8853-e2f694597e8a"
      },
      "cell_type": "code",
      "source": [
        "# SVD를 이용해 영화 추천을 하시오. (User 기준!)\n",
        "\n",
        "# 위에서 구한 U2, D2, V2를 이용 하자!"
      ],
      "execution_count": 0,
      "outputs": [
        {
          "output_type": "execute_result",
          "data": {
            "text/html": [
              "<div>\n",
              "<style scoped>\n",
              "    .dataframe tbody tr th:only-of-type {\n",
              "        vertical-align: middle;\n",
              "    }\n",
              "\n",
              "    .dataframe tbody tr th {\n",
              "        vertical-align: top;\n",
              "    }\n",
              "\n",
              "    .dataframe thead th {\n",
              "        text-align: right;\n",
              "    }\n",
              "</style>\n",
              "<table border=\"1\" class=\"dataframe\">\n",
              "  <thead>\n",
              "    <tr style=\"text-align: right;\">\n",
              "      <th></th>\n",
              "      <th>달콤한인생</th>\n",
              "      <th>범죄도시</th>\n",
              "      <th>모아나</th>\n",
              "      <th>도둑들</th>\n",
              "      <th>서치</th>\n",
              "      <th>명당</th>\n",
              "    </tr>\n",
              "  </thead>\n",
              "  <tbody>\n",
              "    <tr>\n",
              "      <th>A</th>\n",
              "      <td>5</td>\n",
              "      <td>3</td>\n",
              "      <td>4.0</td>\n",
              "      <td>0.0</td>\n",
              "      <td>0.0</td>\n",
              "      <td>0.0</td>\n",
              "    </tr>\n",
              "    <tr>\n",
              "      <th>B</th>\n",
              "      <td>5</td>\n",
              "      <td>1</td>\n",
              "      <td>4.0</td>\n",
              "      <td>4.0</td>\n",
              "      <td>3.0</td>\n",
              "      <td>0.0</td>\n",
              "    </tr>\n",
              "    <tr>\n",
              "      <th>C</th>\n",
              "      <td>1</td>\n",
              "      <td>4</td>\n",
              "      <td>3.0</td>\n",
              "      <td>5.0</td>\n",
              "      <td>0.0</td>\n",
              "      <td>2.0</td>\n",
              "    </tr>\n",
              "    <tr>\n",
              "      <th>D</th>\n",
              "      <td>2</td>\n",
              "      <td>1</td>\n",
              "      <td>0.0</td>\n",
              "      <td>0.0</td>\n",
              "      <td>0.0</td>\n",
              "      <td>0.0</td>\n",
              "    </tr>\n",
              "  </tbody>\n",
              "</table>\n",
              "</div>"
            ],
            "text/plain": [
              "   달콤한인생  범죄도시  모아나  도둑들   서치   명당\n",
              "A      5     3  4.0  0.0  0.0  0.0\n",
              "B      5     1  4.0  4.0  3.0  0.0\n",
              "C      1     4  3.0  5.0  0.0  2.0\n",
              "D      2     1  0.0  0.0  0.0  0.0"
            ]
          },
          "metadata": {
            "tags": []
          },
          "execution_count": 161
        }
      ]
    },
    {
      "metadata": {
        "id": "Xy0p_EmK8KgO",
        "colab_type": "code",
        "colab": {
          "base_uri": "https://localhost:8080/",
          "height": 89
        },
        "outputId": "c2c481e1-764d-4f62-fff4-fcaa7c449826"
      },
      "cell_type": "code",
      "source": [
        "#1) User matrix 만들기\n",
        "\n",
        "D_sqrt = np.sqrt(D2)\n",
        "user = U2 @ D_sqrt\n",
        "user"
      ],
      "execution_count": 0,
      "outputs": [
        {
          "output_type": "execute_result",
          "data": {
            "text/plain": [
              "array([[-1.79992483, -1.20641041, -1.12966403],\n",
              "       [-2.24888113, -0.38121669,  1.39661924],\n",
              "       [-1.79210724,  1.8006618 , -0.539282  ],\n",
              "       [-0.44589677, -0.44454228, -0.31637172]])"
            ]
          },
          "metadata": {
            "tags": []
          },
          "execution_count": 172
        }
      ]
    },
    {
      "metadata": {
        "id": "299DmEPp8KgV",
        "colab_type": "code",
        "colab": {
          "base_uri": "https://localhost:8080/",
          "height": 173
        },
        "outputId": "fb0c739a-d7e1-4fa3-c706-a177828d1101"
      },
      "cell_type": "code",
      "source": [
        "#2) User matrix로 User-User 유사도 matrix를 만드시오 \n",
        "\n",
        "user_df = pd.DataFrame(user)\n",
        "user_df.index = movie_df.index\n",
        "user_df"
      ],
      "execution_count": 0,
      "outputs": [
        {
          "output_type": "execute_result",
          "data": {
            "text/html": [
              "<div>\n",
              "<style scoped>\n",
              "    .dataframe tbody tr th:only-of-type {\n",
              "        vertical-align: middle;\n",
              "    }\n",
              "\n",
              "    .dataframe tbody tr th {\n",
              "        vertical-align: top;\n",
              "    }\n",
              "\n",
              "    .dataframe thead th {\n",
              "        text-align: right;\n",
              "    }\n",
              "</style>\n",
              "<table border=\"1\" class=\"dataframe\">\n",
              "  <thead>\n",
              "    <tr style=\"text-align: right;\">\n",
              "      <th></th>\n",
              "      <th>0</th>\n",
              "      <th>1</th>\n",
              "      <th>2</th>\n",
              "    </tr>\n",
              "  </thead>\n",
              "  <tbody>\n",
              "    <tr>\n",
              "      <th>A</th>\n",
              "      <td>-1.799925</td>\n",
              "      <td>-1.206410</td>\n",
              "      <td>-1.129664</td>\n",
              "    </tr>\n",
              "    <tr>\n",
              "      <th>B</th>\n",
              "      <td>-2.248881</td>\n",
              "      <td>-0.381217</td>\n",
              "      <td>1.396619</td>\n",
              "    </tr>\n",
              "    <tr>\n",
              "      <th>C</th>\n",
              "      <td>-1.792107</td>\n",
              "      <td>1.800662</td>\n",
              "      <td>-0.539282</td>\n",
              "    </tr>\n",
              "    <tr>\n",
              "      <th>D</th>\n",
              "      <td>-0.445897</td>\n",
              "      <td>-0.444542</td>\n",
              "      <td>-0.316372</td>\n",
              "    </tr>\n",
              "  </tbody>\n",
              "</table>\n",
              "</div>"
            ],
            "text/plain": [
              "          0         1         2\n",
              "A -1.799925 -1.206410 -1.129664\n",
              "B -2.248881 -0.381217  1.396619\n",
              "C -1.792107  1.800662 -0.539282\n",
              "D -0.445897 -0.444542 -0.316372"
            ]
          },
          "metadata": {
            "tags": []
          },
          "execution_count": 179
        }
      ]
    },
    {
      "metadata": {
        "id": "LDgvxcbBBgon",
        "colab_type": "code",
        "colab": {
          "base_uri": "https://localhost:8080/",
          "height": 173
        },
        "outputId": "47260c56-cafd-4aa2-82fb-e36ec6a708c2"
      },
      "cell_type": "code",
      "source": [
        "# user_df.corr() ,  이렇게 하면 열들간의 유사도가 계산됨\n",
        "\n",
        "user_simil =user_df.T.corr()\n",
        "user_simil"
      ],
      "execution_count": 0,
      "outputs": [
        {
          "output_type": "execute_result",
          "data": {
            "text/html": [
              "<div>\n",
              "<style scoped>\n",
              "    .dataframe tbody tr th:only-of-type {\n",
              "        vertical-align: middle;\n",
              "    }\n",
              "\n",
              "    .dataframe tbody tr th {\n",
              "        vertical-align: top;\n",
              "    }\n",
              "\n",
              "    .dataframe thead th {\n",
              "        text-align: right;\n",
              "    }\n",
              "</style>\n",
              "<table border=\"1\" class=\"dataframe\">\n",
              "  <thead>\n",
              "    <tr style=\"text-align: right;\">\n",
              "      <th></th>\n",
              "      <th>A</th>\n",
              "      <th>B</th>\n",
              "      <th>C</th>\n",
              "      <th>D</th>\n",
              "    </tr>\n",
              "  </thead>\n",
              "  <tbody>\n",
              "    <tr>\n",
              "      <th>A</th>\n",
              "      <td>1.000000</td>\n",
              "      <td>0.919270</td>\n",
              "      <td>0.695738</td>\n",
              "      <td>0.595189</td>\n",
              "    </tr>\n",
              "    <tr>\n",
              "      <th>B</th>\n",
              "      <td>0.919270</td>\n",
              "      <td>1.000000</td>\n",
              "      <td>0.356830</td>\n",
              "      <td>0.863453</td>\n",
              "    </tr>\n",
              "    <tr>\n",
              "      <th>C</th>\n",
              "      <td>0.695738</td>\n",
              "      <td>0.356830</td>\n",
              "      <td>1.000000</td>\n",
              "      <td>-0.163116</td>\n",
              "    </tr>\n",
              "    <tr>\n",
              "      <th>D</th>\n",
              "      <td>0.595189</td>\n",
              "      <td>0.863453</td>\n",
              "      <td>-0.163116</td>\n",
              "      <td>1.000000</td>\n",
              "    </tr>\n",
              "  </tbody>\n",
              "</table>\n",
              "</div>"
            ],
            "text/plain": [
              "          A         B         C         D\n",
              "A  1.000000  0.919270  0.695738  0.595189\n",
              "B  0.919270  1.000000  0.356830  0.863453\n",
              "C  0.695738  0.356830  1.000000 -0.163116\n",
              "D  0.595189  0.863453 -0.163116  1.000000"
            ]
          },
          "metadata": {
            "tags": []
          },
          "execution_count": 193
        }
      ]
    },
    {
      "metadata": {
        "id": "ahtiFWuz8Kgd",
        "colab_type": "code",
        "colab": {
          "base_uri": "https://localhost:8080/",
          "height": 107
        },
        "outputId": "2015f71e-76d9-4235-dc8c-69aaee9df163"
      },
      "cell_type": "code",
      "source": [
        "#3) 위에서 만든 유사도 matrix를 기준으로 아이템을 추천하시오\n",
        "\n",
        "# D와 D의 유사도는 0으로 만들기\n",
        "us = user_simil['D']\n",
        "us[3] = 0\n",
        "us"
      ],
      "execution_count": 0,
      "outputs": [
        {
          "output_type": "execute_result",
          "data": {
            "text/plain": [
              "A    0.595189\n",
              "B    0.863453\n",
              "C   -0.163116\n",
              "D    0.000000\n",
              "Name: D, dtype: float64"
            ]
          },
          "metadata": {
            "tags": []
          },
          "execution_count": 194
        }
      ]
    },
    {
      "metadata": {
        "id": "6WID6tOHCiBd",
        "colab_type": "code",
        "colab": {
          "base_uri": "https://localhost:8080/",
          "height": 125
        },
        "outputId": "844646d6-ae8d-4fdb-950c-032ee7b53716"
      },
      "cell_type": "code",
      "source": [
        "item = []\n",
        "for col_name in movie_df.columns.values:\n",
        "  tmp  = sum(us * movie_df[col_name])\n",
        "  item.append(tmp)\n",
        "item"
      ],
      "execution_count": 0,
      "outputs": [
        {
          "output_type": "execute_result",
          "data": {
            "text/plain": [
              "[7.130094556573452,\n",
              " 1.9965545632352417,\n",
              " 5.345219502188873,\n",
              " 2.638230483133708,\n",
              " 2.590359469855774,\n",
              " -0.326232857336263]"
            ]
          },
          "metadata": {
            "tags": []
          },
          "execution_count": 196
        }
      ]
    },
    {
      "metadata": {
        "id": "y4XkvGMSCiBo",
        "colab_type": "code",
        "colab": {
          "base_uri": "https://localhost:8080/",
          "height": 235
        },
        "outputId": "e8d3afe1-a57a-487d-81d7-7ff1cfb48b58"
      },
      "cell_type": "code",
      "source": [
        "# item dataframe으로 만들어 주기!\n",
        "item_df = pd.DataFrame(item)\n",
        "item_df.index = movie_df.columns.values\n",
        "item_df.columns = ['ratings']\n",
        "item_df"
      ],
      "execution_count": 0,
      "outputs": [
        {
          "output_type": "execute_result",
          "data": {
            "text/html": [
              "<div>\n",
              "<style scoped>\n",
              "    .dataframe tbody tr th:only-of-type {\n",
              "        vertical-align: middle;\n",
              "    }\n",
              "\n",
              "    .dataframe tbody tr th {\n",
              "        vertical-align: top;\n",
              "    }\n",
              "\n",
              "    .dataframe thead th {\n",
              "        text-align: right;\n",
              "    }\n",
              "</style>\n",
              "<table border=\"1\" class=\"dataframe\">\n",
              "  <thead>\n",
              "    <tr style=\"text-align: right;\">\n",
              "      <th></th>\n",
              "      <th>ratings</th>\n",
              "    </tr>\n",
              "  </thead>\n",
              "  <tbody>\n",
              "    <tr>\n",
              "      <th>달콤한인생</th>\n",
              "      <td>7.130095</td>\n",
              "    </tr>\n",
              "    <tr>\n",
              "      <th>범죄도시</th>\n",
              "      <td>1.996555</td>\n",
              "    </tr>\n",
              "    <tr>\n",
              "      <th>모아나</th>\n",
              "      <td>5.345220</td>\n",
              "    </tr>\n",
              "    <tr>\n",
              "      <th>도둑들</th>\n",
              "      <td>2.638230</td>\n",
              "    </tr>\n",
              "    <tr>\n",
              "      <th>서치</th>\n",
              "      <td>2.590359</td>\n",
              "    </tr>\n",
              "    <tr>\n",
              "      <th>명당</th>\n",
              "      <td>-0.326233</td>\n",
              "    </tr>\n",
              "  </tbody>\n",
              "</table>\n",
              "</div>"
            ],
            "text/plain": [
              "        ratings\n",
              "달콤한인생  7.130095\n",
              "범죄도시   1.996555\n",
              "모아나    5.345220\n",
              "도둑들    2.638230\n",
              "서치     2.590359\n",
              "명당    -0.326233"
            ]
          },
          "metadata": {
            "tags": []
          },
          "execution_count": 198
        }
      ]
    },
    {
      "metadata": {
        "id": "pb0WhKrvCiBx",
        "colab_type": "code",
        "colab": {
          "base_uri": "https://localhost:8080/",
          "height": 235
        },
        "outputId": "aeccb5c0-362b-440c-8889-050e21657c6e"
      },
      "cell_type": "code",
      "source": [
        "# 예측한 평점순으로 정렬!\n",
        "item_df.sort_values(by=['ratings'], ascending=False)"
      ],
      "execution_count": 0,
      "outputs": [
        {
          "output_type": "execute_result",
          "data": {
            "text/html": [
              "<div>\n",
              "<style scoped>\n",
              "    .dataframe tbody tr th:only-of-type {\n",
              "        vertical-align: middle;\n",
              "    }\n",
              "\n",
              "    .dataframe tbody tr th {\n",
              "        vertical-align: top;\n",
              "    }\n",
              "\n",
              "    .dataframe thead th {\n",
              "        text-align: right;\n",
              "    }\n",
              "</style>\n",
              "<table border=\"1\" class=\"dataframe\">\n",
              "  <thead>\n",
              "    <tr style=\"text-align: right;\">\n",
              "      <th></th>\n",
              "      <th>ratings</th>\n",
              "    </tr>\n",
              "  </thead>\n",
              "  <tbody>\n",
              "    <tr>\n",
              "      <th>달콤한인생</th>\n",
              "      <td>7.130095</td>\n",
              "    </tr>\n",
              "    <tr>\n",
              "      <th>모아나</th>\n",
              "      <td>5.345220</td>\n",
              "    </tr>\n",
              "    <tr>\n",
              "      <th>도둑들</th>\n",
              "      <td>2.638230</td>\n",
              "    </tr>\n",
              "    <tr>\n",
              "      <th>서치</th>\n",
              "      <td>2.590359</td>\n",
              "    </tr>\n",
              "    <tr>\n",
              "      <th>범죄도시</th>\n",
              "      <td>1.996555</td>\n",
              "    </tr>\n",
              "    <tr>\n",
              "      <th>명당</th>\n",
              "      <td>-0.326233</td>\n",
              "    </tr>\n",
              "  </tbody>\n",
              "</table>\n",
              "</div>"
            ],
            "text/plain": [
              "        ratings\n",
              "달콤한인생  7.130095\n",
              "모아나    5.345220\n",
              "도둑들    2.638230\n",
              "서치     2.590359\n",
              "범죄도시   1.996555\n",
              "명당    -0.326233"
            ]
          },
          "metadata": {
            "tags": []
          },
          "execution_count": 199
        }
      ]
    },
    {
      "metadata": {
        "id": "9fxq3bncCiB9",
        "colab_type": "code",
        "colab": {
          "base_uri": "https://localhost:8080/",
          "height": 173
        },
        "outputId": "63b5c8d4-7116-4ef1-dad4-6be18ac07d33"
      },
      "cell_type": "code",
      "source": [
        "# Step4) 'D' 에게 적절한 영화 추천\n",
        "movie_df\n",
        "\n",
        "## D에서 '모아나' 영화 추천 !"
      ],
      "execution_count": 0,
      "outputs": [
        {
          "output_type": "execute_result",
          "data": {
            "text/html": [
              "<div>\n",
              "<style scoped>\n",
              "    .dataframe tbody tr th:only-of-type {\n",
              "        vertical-align: middle;\n",
              "    }\n",
              "\n",
              "    .dataframe tbody tr th {\n",
              "        vertical-align: top;\n",
              "    }\n",
              "\n",
              "    .dataframe thead th {\n",
              "        text-align: right;\n",
              "    }\n",
              "</style>\n",
              "<table border=\"1\" class=\"dataframe\">\n",
              "  <thead>\n",
              "    <tr style=\"text-align: right;\">\n",
              "      <th></th>\n",
              "      <th>달콤한인생</th>\n",
              "      <th>범죄도시</th>\n",
              "      <th>모아나</th>\n",
              "      <th>도둑들</th>\n",
              "      <th>서치</th>\n",
              "      <th>명당</th>\n",
              "    </tr>\n",
              "  </thead>\n",
              "  <tbody>\n",
              "    <tr>\n",
              "      <th>A</th>\n",
              "      <td>5</td>\n",
              "      <td>3</td>\n",
              "      <td>4.0</td>\n",
              "      <td>0.0</td>\n",
              "      <td>0.0</td>\n",
              "      <td>0.0</td>\n",
              "    </tr>\n",
              "    <tr>\n",
              "      <th>B</th>\n",
              "      <td>5</td>\n",
              "      <td>1</td>\n",
              "      <td>4.0</td>\n",
              "      <td>4.0</td>\n",
              "      <td>3.0</td>\n",
              "      <td>0.0</td>\n",
              "    </tr>\n",
              "    <tr>\n",
              "      <th>C</th>\n",
              "      <td>1</td>\n",
              "      <td>4</td>\n",
              "      <td>3.0</td>\n",
              "      <td>5.0</td>\n",
              "      <td>0.0</td>\n",
              "      <td>2.0</td>\n",
              "    </tr>\n",
              "    <tr>\n",
              "      <th>D</th>\n",
              "      <td>2</td>\n",
              "      <td>1</td>\n",
              "      <td>0.0</td>\n",
              "      <td>0.0</td>\n",
              "      <td>0.0</td>\n",
              "      <td>0.0</td>\n",
              "    </tr>\n",
              "  </tbody>\n",
              "</table>\n",
              "</div>"
            ],
            "text/plain": [
              "   달콤한인생  범죄도시  모아나  도둑들   서치   명당\n",
              "A      5     3  4.0  0.0  0.0  0.0\n",
              "B      5     1  4.0  4.0  3.0  0.0\n",
              "C      1     4  3.0  5.0  0.0  2.0\n",
              "D      2     1  0.0  0.0  0.0  0.0"
            ]
          },
          "metadata": {
            "tags": []
          },
          "execution_count": 148
        }
      ]
    }
  ]
}