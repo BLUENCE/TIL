{
  "nbformat": 4,
  "nbformat_minor": 0,
  "metadata": {
    "colab": {
      "name": "StudyingClassModule.ipynb",
      "version": "0.3.2",
      "provenance": [],
      "collapsed_sections": []
    },
    "kernelspec": {
      "name": "python3",
      "display_name": "Python 3"
    }
  },
  "cells": [
    {
      "metadata": {
        "id": "MjGPODP7Vlcm",
        "colab_type": "text"
      },
      "cell_type": "markdown",
      "source": [
        "# 클래스 개념공부\n",
        "\n",
        "참고 : https://edu.goorm.io/learn/lecture"
      ]
    },
    {
      "metadata": {
        "id": "dOuNNc9xPEi2",
        "colab_type": "code",
        "colab": {}
      },
      "cell_type": "code",
      "source": [
        "class Customer:\n",
        "\t\n",
        "\twelcome = \"반갑습니다\"\n",
        "\t\n",
        "\tdef info(self, id):\n",
        "\t\tprint(id)\n",
        "\n"
      ],
      "execution_count": 0,
      "outputs": []
    },
    {
      "metadata": {
        "id": "kAbDj4kwPQFR",
        "colab_type": "code",
        "colab": {
          "base_uri": "https://localhost:8080/",
          "height": 35
        },
        "outputId": "9281965e-516c-49e9-8222-c8013768ee30"
      },
      "cell_type": "code",
      "source": [
        "customer1 = Customer()\n",
        "customer1.welcome "
      ],
      "execution_count": 4,
      "outputs": [
        {
          "output_type": "execute_result",
          "data": {
            "text/plain": [
              "'반갑습니다'"
            ]
          },
          "metadata": {
            "tags": []
          },
          "execution_count": 4
        }
      ]
    },
    {
      "metadata": {
        "id": "Xugnqn3TPRIc",
        "colab_type": "code",
        "colab": {
          "base_uri": "https://localhost:8080/",
          "height": 35
        },
        "outputId": "14128633-34d0-45de-97a2-781ca04230e5"
      },
      "cell_type": "code",
      "source": [
        "customer1.info(200)"
      ],
      "execution_count": 5,
      "outputs": [
        {
          "output_type": "stream",
          "text": [
            "200\n"
          ],
          "name": "stdout"
        }
      ]
    },
    {
      "metadata": {
        "id": "_x0KhA66QAL_",
        "colab_type": "text"
      },
      "cell_type": "markdown",
      "source": [
        "## 클래스의 self : \n",
        "- 해당 함수를 부르는 '객체'가 클래스의 인스턴스인지 확인해줌\n",
        "- self 를 이용해서 '객체' 에 정보를 저장하고 불러올 수 있음"
      ]
    },
    {
      "metadata": {
        "id": "D0mp4yh-P_Fl",
        "colab_type": "code",
        "colab": {
          "base_uri": "https://localhost:8080/",
          "height": 35
        },
        "outputId": "898fe5e2-a9d1-4f5e-f3a0-bf4b4c80cd1a"
      },
      "cell_type": "code",
      "source": [
        "class Car:\n",
        "\thonk = \"빵빵\"\n",
        "\t\n",
        "\tdef set_info(self, color, year):\n",
        "\t\tself.color = color \n",
        "\t\tself.year = year\n",
        "\t\n",
        "\tdef get_info(self):\n",
        "\t\tprint (self.color, self.year)\n",
        "\t\t\n",
        "\t\t\n",
        "my_car = Car()  # 클래스의 객체 생성\n",
        "\n",
        "my_car.set_info(\"red\",2017)\n",
        "\n",
        "my_car.color , my_car.year\n"
      ],
      "execution_count": 9,
      "outputs": [
        {
          "output_type": "execute_result",
          "data": {
            "text/plain": [
              "('red', 2017)"
            ]
          },
          "metadata": {
            "tags": []
          },
          "execution_count": 9
        }
      ]
    },
    {
      "metadata": {
        "id": "XsKS1NdBRVvd",
        "colab_type": "code",
        "colab": {
          "base_uri": "https://localhost:8080/",
          "height": 35
        },
        "outputId": "cb003d69-8cfe-431c-bdd3-771cf97705f0"
      },
      "cell_type": "code",
      "source": [
        "my_car.get_info()"
      ],
      "execution_count": 11,
      "outputs": [
        {
          "output_type": "stream",
          "text": [
            "red 2017\n"
          ],
          "name": "stdout"
        }
      ]
    },
    {
      "metadata": {
        "id": "OLcdLDkfUP1t",
        "colab_type": "text"
      },
      "cell_type": "markdown",
      "source": [
        "## 클래스의 \\__init__\n",
        "\n",
        "- 다음과 같이 클래스의 생성후, 값을 할당하는게 아니라\n",
        "클래스를 생성하면서 바로 값을 할당할 수 있게 해준다. \n",
        "\n",
        "my_car = Car()  # 클래스의 객체 생성\n",
        "\n",
        "my_car.set_info(\"red\",2017)\n",
        "\n"
      ]
    },
    {
      "metadata": {
        "id": "lge_fIROSm2p",
        "colab_type": "code",
        "colab": {
          "base_uri": "https://localhost:8080/",
          "height": 35
        },
        "outputId": "4bb631b5-b0b4-498c-9014-72e5c21673fa"
      },
      "cell_type": "code",
      "source": [
        "class Member:\n",
        "\t\n",
        "\tdef __init__(self, ID, PASS):\n",
        "\t\tself.id = ID\n",
        "\t\tself.password = PASS\n",
        "\t\t\n",
        "\t\t\n",
        "\tdef getId(self):\n",
        "\t\tprint(self.id, self.password)\n",
        "\n",
        "member = Member(\"HAPPY\", 1234)\n",
        "member.getId()"
      ],
      "execution_count": 15,
      "outputs": [
        {
          "output_type": "stream",
          "text": [
            "HAPPY 1234\n"
          ],
          "name": "stdout"
        }
      ]
    },
    {
      "metadata": {
        "id": "qPunebSkUzHI",
        "colab_type": "text"
      },
      "cell_type": "markdown",
      "source": [
        "## 클래스의 상속 (inheritance)\n",
        "\n",
        "- 기본적 상속 : 자식 클래스는 부모 클래스의 함수나 변수를 상속받아서 사용가능\n",
        "\n",
        "- 메서드오버라이딩 : 부모 클래스의 함수를 상속받아서 변경해서 사용하는 것 => 같은 이름의 함수를 또 써서 변경가능"
      ]
    },
    {
      "metadata": {
        "id": "4mlmkf74VkJL",
        "colab_type": "code",
        "colab": {}
      },
      "cell_type": "code",
      "source": [
        "class Person:  # 부모클래스\n",
        "\t\n",
        "\tdef __init__(self, name, age):\n",
        "\t\tself.name = name\n",
        "\t\tself.age = age\n",
        "\t\t\n",
        "\tdef aboutMe(self):\n",
        "\t\tprint (\"나는 부모 클래스 입니다.\")\n",
        "\t\t\n",
        "\t\t\n",
        "class Student(Person):  # 자식클래스\n",
        "\tschool = \"my school\"\n",
        "\t\n",
        "\tdef aboutMe(self):  # 메서드 오버라이딩\n",
        "\t\tprint (self.name, self.age) "
      ],
      "execution_count": 0,
      "outputs": []
    },
    {
      "metadata": {
        "id": "MKVSBjtjWVcf",
        "colab_type": "code",
        "colab": {
          "base_uri": "https://localhost:8080/",
          "height": 35
        },
        "outputId": "1160fe52-7947-4f5f-a8fc-75c48dd4f482"
      },
      "cell_type": "code",
      "source": [
        "person1 = Person(\"Aby\",53)\n",
        "person1.aboutMe()"
      ],
      "execution_count": 23,
      "outputs": [
        {
          "output_type": "stream",
          "text": [
            "나는 부모 클래스 입니다.\n"
          ],
          "name": "stdout"
        }
      ]
    },
    {
      "metadata": {
        "id": "Gm8f5l-7WtLd",
        "colab_type": "code",
        "colab": {
          "base_uri": "https://localhost:8080/",
          "height": 35
        },
        "outputId": "53478f22-5dfb-473e-b355-50109aa1b160"
      },
      "cell_type": "code",
      "source": [
        "person2 = Student(\"Bla\",11)\n",
        "person2.school  # 변수 사용 "
      ],
      "execution_count": 25,
      "outputs": [
        {
          "output_type": "execute_result",
          "data": {
            "text/plain": [
              "'my school'"
            ]
          },
          "metadata": {
            "tags": []
          },
          "execution_count": 25
        }
      ]
    },
    {
      "metadata": {
        "id": "L7ENlgaGW5g5",
        "colab_type": "code",
        "colab": {
          "base_uri": "https://localhost:8080/",
          "height": 35
        },
        "outputId": "c866000b-3d42-4abf-ca44-498e91159d56"
      },
      "cell_type": "code",
      "source": [
        "person2.aboutMe()  # 함수 사용 "
      ],
      "execution_count": 26,
      "outputs": [
        {
          "output_type": "stream",
          "text": [
            "Bla 11\n"
          ],
          "name": "stdout"
        }
      ]
    },
    {
      "metadata": {
        "id": "pCAGKMU6YZjP",
        "colab_type": "text"
      },
      "cell_type": "markdown",
      "source": [
        "# 모듈\n",
        "모듈 : 함수, 변수, 클래스등을 모아 놓은 파일,\n",
        "다른 파이썬 프로그램 파일에서 불러와서 사용가능\n",
        "\n",
        "- ex : random모듈 : 파이썬에서 자체적으로 제공하는 모듈 "
      ]
    },
    {
      "metadata": {
        "id": "oAoPW8MvYk7u",
        "colab_type": "code",
        "colab": {}
      },
      "cell_type": "code",
      "source": [
        "# 현재 파일과 같은 경로에 있는 calculator.py 파일안에 있는 sum 함수만 import 시키는법\n",
        "from calculator import sum \n",
        "\n",
        "#calculator 안에 모든 함수 import 는 *(별) 사용 "
      ],
      "execution_count": 0,
      "outputs": []
    },
    {
      "metadata": {
        "id": "SfPUihpoZJRR",
        "colab_type": "code",
        "colab": {}
      },
      "cell_type": "code",
      "source": [
        ""
      ],
      "execution_count": 0,
      "outputs": []
    }
  ]
}