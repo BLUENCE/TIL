{
 "cells": [
  {
   "cell_type": "markdown",
   "metadata": {},
   "source": [
    "# What I Learned "
   ]
  },
  {
   "cell_type": "code",
   "execution_count": 4,
   "metadata": {},
   "outputs": [
    {
     "data": {
      "text/plain": [
       "[None, None, None]"
      ]
     },
     "execution_count": 4,
     "metadata": {},
     "output_type": "execute_result"
    }
   ],
   "source": [
    "# create empty list  \n",
    "\n",
    "emty_list = [None] * 3\n",
    "emty_list"
   ]
  },
  {
   "cell_type": "code",
   "execution_count": 5,
   "metadata": {
    "collapsed": true
   },
   "outputs": [],
   "source": [
    "# Create reculsion(순환) function // 순환에러 나지 않도록 주의\n",
    "\n",
    "def reculse(count):\n",
    "    if count <= 0:\n",
    "        pass\n",
    "    else:\n",
    "        print(' *')\n",
    "        reculse(count-1)"
   ]
  },
  {
   "cell_type": "code",
   "execution_count": 6,
   "metadata": {},
   "outputs": [
    {
     "name": "stdout",
     "output_type": "stream",
     "text": [
      " *\n",
      " *\n",
      " *\n",
      " *\n",
      " *\n"
     ]
    }
   ],
   "source": [
    "reculse(5)"
   ]
  },
  {
   "cell_type": "code",
   "execution_count": 7,
   "metadata": {},
   "outputs": [
    {
     "data": {
      "text/plain": [
       "87"
      ]
     },
     "execution_count": 7,
     "metadata": {},
     "output_type": "execute_result"
    }
   ],
   "source": [
    "# random, time \n",
    "\n",
    "import random \n",
    "import time\n",
    "\n",
    "\n",
    "random.seed(time.time())  # 현재 시간을 시드로 함, 항상 같은 조건에서 랜덤하게 나오도록\n",
    "\n",
    "random.randint(1,100)  # 1에서 100사이 랜덤한 정수를 출력하라 "
   ]
  },
  {
   "cell_type": "code",
   "execution_count": 16,
   "metadata": {
    "collapsed": true
   },
   "outputs": [],
   "source": [
    "# Create N! Using reculsion function ( 3! = 3 *  2 * 1)\n",
    "\n",
    "def factorial(n):\n",
    "    \n",
    "    if n <= 1:\n",
    "        return 1 \n",
    "\n",
    "    else: \n",
    "        return(n*factorial(n-1))    # 계속해서 팩토리얼로 들어가게 해서 "
   ]
  },
  {
   "cell_type": "code",
   "execution_count": null,
   "metadata": {
    "collapsed": true
   },
   "outputs": [],
   "source": [
    "# Create N! Using for statement \n",
    "\n",
    "# 순환보다는 반복문으로 변환해서 짜는게 수행속도, 메모리 사용 측면에서 효율적이다.\n",
    "\n",
    "def factorial_for(n):\n",
    "    \n",
    "    factorial = 1\n",
    "    for i in range(1,n)\n",
    "        factorial *= i   # factorial = factorial * i \n",
    "    return(factorial)"
   ]
  },
  {
   "cell_type": "code",
   "execution_count": 27,
   "metadata": {
    "collapsed": true
   },
   "outputs": [],
   "source": [
    "# 내가 짠 더러운 코드 ^^ ;;\n",
    "\n",
    "def my_factorial_for(n):\n",
    "    \n",
    "    if n <=1:\n",
    "        return 1\n",
    "    else:\n",
    "        result = 1\n",
    "        for i in range(n-1):\n",
    "            result = result * n\n",
    "            n = n-1\n",
    "        return(result)"
   ]
  },
  {
   "cell_type": "code",
   "execution_count": 28,
   "metadata": {},
   "outputs": [
    {
     "data": {
      "text/plain": [
       "24"
      ]
     },
     "execution_count": 28,
     "metadata": {},
     "output_type": "execute_result"
    }
   ],
   "source": [
    "factorial(4)  # 4 = 4 * 3 * 2 * 1 = 24 "
   ]
  },
  {
   "cell_type": "code",
   "execution_count": 33,
   "metadata": {},
   "outputs": [
    {
     "data": {
      "text/plain": [
       "24"
      ]
     },
     "execution_count": 33,
     "metadata": {},
     "output_type": "execute_result"
    }
   ],
   "source": [
    "factorial_for(4)"
   ]
  },
  {
   "cell_type": "code",
   "execution_count": null,
   "metadata": {
    "collapsed": true
   },
   "outputs": [],
   "source": []
  }
 ],
 "metadata": {
  "kernelspec": {
   "display_name": "Python 3",
   "language": "python",
   "name": "python3"
  },
  "language_info": {
   "codemirror_mode": {
    "name": "ipython",
    "version": 3
   },
   "file_extension": ".py",
   "mimetype": "text/x-python",
   "name": "python",
   "nbconvert_exporter": "python",
   "pygments_lexer": "ipython3",
   "version": "3.6.3"
  }
 },
 "nbformat": 4,
 "nbformat_minor": 2
}
