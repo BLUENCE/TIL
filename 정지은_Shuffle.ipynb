{
  "nbformat": 4,
  "nbformat_minor": 0,
  "metadata": {
    "colab": {
      "name": "정지은_Shuffle.ipynb",
      "version": "0.3.2",
      "provenance": [],
      "collapsed_sections": [],
      "include_colab_link": true
    },
    "kernelspec": {
      "name": "python3",
      "display_name": "Python 3"
    }
  },
  "cells": [
    {
      "cell_type": "markdown",
      "metadata": {
        "id": "view-in-github",
        "colab_type": "text"
      },
      "source": [
        "[View in Colaboratory](https://colab.research.google.com/github/BLUENCE/TIL/blob/master/%E1%84%8C%E1%85%A5%E1%86%BC%E1%84%8C%E1%85%B5%E1%84%8B%E1%85%B3%E1%86%AB_Shuffle.ipynb)"
      ]
    },
    {
      "metadata": {
        "id": "LRUyTrjvF8_U",
        "colab_type": "text"
      },
      "cell_type": "markdown",
      "source": [
        "## 과제 : 리스트를 인자로 받아서 리스트의 원소를 임의의 순서로 섞은 새 리스트를 반환하는 함수를 서로 다른 3가지 방식으로 구현하고, 각 함수의 작동방식과 장단점을 설명하는 Colab 노트북을 만드세요. 함수에 전달했던 원래의 리스트는 함수가 실행된 이후에도 그대로 유지되어야 합니다. "
      ]
    },
    {
      "metadata": {
        "id": "45lwMnPtGhSJ",
        "colab_type": "text"
      },
      "cell_type": "markdown",
      "source": [
        "파이썬에는 랜덤(random) 하게 난수를 뽑아주는 모듈이 있습니다. \n",
        "\n",
        "https://wikidocs.net/79\n",
        "\n",
        "---\n",
        "\n",
        "import random\n",
        "\n",
        "(1)random.random()  : 0이상 1미만 모든 실수 중 랜덤뽑기\n",
        "\n",
        "(2)random.randint(1, 10) : 1 이상 10 이하의 정수(int)를 리턴한다.\n",
        "\n",
        "    random, randrange 함수와는 달리 마지막 숫자가 포함되는 것이 특이하다.\n",
        "\n",
        "(3)\n",
        "random.randrange(1,7) : 1이상 7미만 정수 중 랜덤뽑기\n",
        "\n",
        "(4)\n",
        "random.shuffle( ) : 순서형 자료를 뒤죽박죽 섞기 \n",
        "\n",
        "(5)\n",
        "random.choice( ) : 아무 원소나 하나 뽑아주기 \n"
      ]
    },
    {
      "metadata": {
        "id": "sbjZk_TmrmRF",
        "colab_type": "text"
      },
      "cell_type": "markdown",
      "source": [
        "## 1. random 의 shuffle 함수 이용하기 \n",
        "\n",
        "장점 : 완전 쉽다. 그냥 파이썬 모듈 사용하는 거시다.\n",
        "\n",
        "단점 : 학습이 1도 안되는 것 같다."
      ]
    },
    {
      "metadata": {
        "id": "8-MOGxr_rl8b",
        "colab_type": "code",
        "colab": {
          "base_uri": "https://localhost:8080/",
          "height": 51
        },
        "outputId": "0f4efa8b-61c7-40b4-8454-70df235db040"
      },
      "cell_type": "code",
      "source": [
        "from random import shuffle\n",
        "\n",
        "def shuffle0(data):\n",
        "    shuffle(data)\n",
        "    return data\n",
        "\n",
        "data = [2,4,6,8,10]\n",
        "\n",
        "print(data)  # 원래 입력했던 리스트 \n",
        "print(shuffle0(data)) # 함수 실행 후 리스트 \n"
      ],
      "execution_count": 0,
      "outputs": [
        {
          "output_type": "stream",
          "text": [
            "[2, 4, 6, 8, 10]\n",
            "[10, 6, 2, 8, 4]\n"
          ],
          "name": "stdout"
        }
      ]
    },
    {
      "metadata": {
        "id": "frYEPAIY3YQn",
        "colab_type": "text"
      },
      "cell_type": "markdown",
      "source": [
        "## 2. Randint() 함수 사용해서 리스트 섞기 - 전체값 return \n",
        "\n",
        "장점 : 입력한 리스트를 한꺼번에 가져가서 함수에 넣고 처리 후 return하기 때문에 빠르다\n",
        "\n",
        "단점 : 함수의 내부가 복잡해진다. "
      ]
    },
    {
      "metadata": {
        "id": "T4_xUP454NCf",
        "colab_type": "code",
        "colab": {
          "base_uri": "https://localhost:8080/",
          "height": 51
        },
        "outputId": "8baa5c83-24b2-48ed-e8bd-ec3471971d77"
      },
      "cell_type": "code",
      "source": [
        "import random\n",
        "\n",
        "def shuffle1(data):\n",
        "  \n",
        "  last_list = [] # 섞어서 담을 리스트 변수를 만들어준다.\n",
        "  r = (random.randint(1,len(data))) # 우선 임의의 수 r 을 하나를 뽑아서 초기화 해준다.\n",
        "  checks = [] # 중복으로 뽑히는걸 방지하기 위해 만든 변수\n",
        "  \n",
        "  while len(last_list) < len(data):\n",
        "    \n",
        "    list_n = random.randint(1,len(data)) # 임의의 수 list_n을  하나 더 뽑는다. \n",
        "    \n",
        "    if r == list_n: continue # 초기화된 임의의 수와 새로 뽑은 임의의 수가 같으면 while문을 빠져나가서 다시뽑는다.\n",
        "    \n",
        "    elif r != list_n and list_n not in checks : # 다르고 기존에 뽑힌적 없으면\n",
        "      last_list.append(data[(list_n-1)]) # 해당 숫자에서 1 뺀만큼 의 인덱스자리에 입력한다. \n",
        "      r = list_n # list_n을 새로운 r 로 초기화 한다.\n",
        "      checks.append(list_n)\n",
        "      \n",
        "  return last_list # 새로 섞여서 만들어진 리스트를 반환한다. \n",
        "  \n",
        "data = ['포인트샴', '고등어태비', '치즈태비', '놀숲']\n",
        "\n",
        "print(data)\n",
        "print(shuffle1(data))"
      ],
      "execution_count": 0,
      "outputs": [
        {
          "output_type": "stream",
          "text": [
            "['포인트샴', '고등어태비', '치즈태비', '놀숲']\n",
            "['포인트샴', '놀숲', '치즈태비', '고등어태비']\n"
          ],
          "name": "stdout"
        }
      ]
    },
    {
      "metadata": {
        "id": "v_c6XrT84NYA",
        "colab_type": "text"
      },
      "cell_type": "markdown",
      "source": [
        "## 3. Randrange 이용해서 섞기 \n",
        "\n",
        "장점 : 신박하다\n",
        "\n",
        "단점 : 메모리 할당이 많이 필요하다 \n",
        "\n"
      ]
    },
    {
      "metadata": {
        "id": "kYS4B8ZompQ4",
        "colab_type": "code",
        "colab": {
          "base_uri": "https://localhost:8080/",
          "height": 34
        },
        "outputId": "fac54508-3d21-4d1d-ac5f-489b72532308"
      },
      "cell_type": "code",
      "source": [
        "import random\n",
        "\n",
        "\n",
        "def func2(list_):\n",
        "\ta, b = [], []\n",
        "\twhile (len(set(a)) != len(list_)):\n",
        "\t\ta.append(r_[x] for x in b]\n",
        "\n",
        "\n",
        "data = [7, 7, 8, 9]\n",
        "print(funcandom.randrange(0, len(list_)))\n",
        "\tfor element in a:\n",
        "\t\tif element not in b:\n",
        "\t\t\tb.append(element)\n",
        "\treturn [list2(data))"
      ],
      "execution_count": 0,
      "outputs": [
        {
          "output_type": "stream",
          "text": [
            "[7, 9, 7, 8]\n"
          ],
          "name": "stdout"
        }
      ]
    },
    {
      "metadata": {
        "id": "Lf7PJOvwm-gy",
        "colab_type": "text"
      },
      "cell_type": "markdown",
      "source": [
        "## 시도해보다 해보다 실패한것 "
      ]
    },
    {
      "metadata": {
        "id": "RjMT6Hu_4bTJ",
        "colab_type": "code",
        "colab": {
          "base_uri": "https://localhost:8080/",
          "height": 232
        },
        "outputId": "21bf7faf-cde5-4a1f-9b9b-f168b9854b6d"
      },
      "cell_type": "code",
      "source": [
        "import random\n",
        "\n",
        " # 임의의 수 r 을 뽑아서 초기화 한다\n",
        "  \n",
        "def shuffle2(data, n):\n",
        "  \n",
        "  r = random.randint(1,len(data)) \n",
        "  check = random.randint(1,len(data))\n",
        "  if r == check: pass\n",
        "  else:\n",
        "    return r-1\n",
        "    \n",
        "\n",
        "    \n",
        "data = [6, 7, 8, 9]\n",
        "\n",
        "last_list = []\n",
        "\n",
        "while len(last_list) < len(data) : \n",
        "  \n",
        "  index = shuffle2(data, data[i])\n",
        "  if r != index :\n",
        "    last_list.append(data[index])\n",
        "  \n",
        "print(last_list)\n",
        "\n",
        "\n",
        "  \n",
        "\n"
      ],
      "execution_count": 4,
      "outputs": [
        {
          "output_type": "error",
          "ename": "NameError",
          "evalue": "ignored",
          "traceback": [
            "\u001b[0;31m---------------------------------------------------------------------------\u001b[0m",
            "\u001b[0;31mNameError\u001b[0m                                 Traceback (most recent call last)",
            "\u001b[0;32m<ipython-input-4-a46e2cd0286b>\u001b[0m in \u001b[0;36m<module>\u001b[0;34m()\u001b[0m\n\u001b[1;32m     19\u001b[0m \u001b[0;32mwhile\u001b[0m \u001b[0mlen\u001b[0m\u001b[0;34m(\u001b[0m\u001b[0mlast_list\u001b[0m\u001b[0;34m)\u001b[0m \u001b[0;34m<\u001b[0m \u001b[0mlen\u001b[0m\u001b[0;34m(\u001b[0m\u001b[0mdata\u001b[0m\u001b[0;34m)\u001b[0m \u001b[0;34m:\u001b[0m\u001b[0;34m\u001b[0m\u001b[0m\n\u001b[1;32m     20\u001b[0m \u001b[0;34m\u001b[0m\u001b[0m\n\u001b[0;32m---> 21\u001b[0;31m   \u001b[0mindex\u001b[0m \u001b[0;34m=\u001b[0m \u001b[0mshuffle2\u001b[0m\u001b[0;34m(\u001b[0m\u001b[0mdata\u001b[0m\u001b[0;34m,\u001b[0m \u001b[0mdata\u001b[0m\u001b[0;34m[\u001b[0m\u001b[0mi\u001b[0m\u001b[0;34m]\u001b[0m\u001b[0;34m)\u001b[0m\u001b[0;34m\u001b[0m\u001b[0m\n\u001b[0m\u001b[1;32m     22\u001b[0m   \u001b[0;32mif\u001b[0m \u001b[0mr\u001b[0m \u001b[0;34m!=\u001b[0m \u001b[0mindex\u001b[0m \u001b[0;34m:\u001b[0m\u001b[0;34m\u001b[0m\u001b[0m\n\u001b[1;32m     23\u001b[0m     \u001b[0mlast_list\u001b[0m\u001b[0;34m.\u001b[0m\u001b[0mappend\u001b[0m\u001b[0;34m(\u001b[0m\u001b[0mdata\u001b[0m\u001b[0;34m[\u001b[0m\u001b[0mindex\u001b[0m\u001b[0;34m]\u001b[0m\u001b[0;34m)\u001b[0m\u001b[0;34m\u001b[0m\u001b[0m\n",
            "\u001b[0;31mNameError\u001b[0m: name 'i' is not defined"
          ]
        }
      ]
    }
  ]
}